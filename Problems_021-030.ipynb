{
 "cells": [
  {
   "cell_type": "markdown",
   "metadata": {},
   "source": [
    "# Solutions to Project Euler 21 - 30"
   ]
  },
  {
   "cell_type": "code",
   "execution_count": 1,
   "metadata": {},
   "outputs": [],
   "source": [
    "%load_ext fetch_euler_problem"
   ]
  },
  {
   "cell_type": "markdown",
   "metadata": {},
   "source": [
    "## Problem 21\n",
    "\n",
    "[Amicable numbers](https://projecteuler.net/problem=21)\n",
    "\n",
    "> <p>Let d(<i>n</i>) be defined as the sum of proper divisors of <i>n</i> (numbers less than <i>n</i> which divide evenly into <i>n</i>).<br/>If d(<i>a</i>) = <i>b</i> and d(<i>b</i>) = <i>a</i>, where <i>a</i> ≠ <i>b</i>, then <i>a</i> and <i>b</i> are an amicable pair and each of <i>a</i> and <i>b</i> are called amicable numbers.</p>\n",
    "> <p>For example, the proper divisors of 220 are 1, 2, 4, 5, 10, 11, 20, 22, 44, 55 and 110; therefore d(220) = 284. The proper divisors of 284 are 1, 2, 4, 71 and 142; so d(284) = 220.</p>\n",
    "> <p>Evaluate the sum of all the amicable numbers under 10000.</p>"
   ]
  },
  {
   "cell_type": "code",
   "execution_count": 2,
   "metadata": {},
   "outputs": [],
   "source": [
    "import math\n",
    "\n",
    "\n",
    "def proper_divisor_sum(n: int) -> int:\n",
    "    \"\"\"\n",
    "    >>> proper_divisor_sum(220)\n",
    "    284\n",
    "    \n",
    "    Note: `sympy.divisor_sigma(n, k)` gives more divisor functions.\n",
    "    \"\"\"\n",
    "    assert n >= 1\n",
    "\n",
    "    divisors = set()\n",
    "    ub = int(math.sqrt(n))\n",
    "    for i in range(1, ub + 1):\n",
    "        if n % i == 0:\n",
    "            divisors.add(i)\n",
    "            divisors.add(n // i)\n",
    "    return sum(divisors) - n\n",
    "\n",
    "\n",
    "def is_amicable(a: int) -> bool:\n",
    "    \"\"\"\n",
    "    >>> is_amicable(220)\n",
    "    True\n",
    "    \"\"\"\n",
    "    assert a > 1\n",
    "    b = proper_divisor_sum(a)\n",
    "    return a != b and a == proper_divisor_sum(b)\n",
    "\n",
    "\n",
    "def prob021(n=10000):\n",
    "    return sum(i for i in range(2, n + 1) if is_amicable(i))\n"
   ]
  },
  {
   "cell_type": "code",
   "execution_count": 3,
   "metadata": {},
   "outputs": [
    {
     "name": "stdout",
     "output_type": "stream",
     "text": [
      "CPU times: user 140 ms, sys: 148 µs, total: 140 ms\n",
      "Wall time: 138 ms\n"
     ]
    },
    {
     "data": {
      "text/plain": [
       "31626"
      ]
     },
     "execution_count": 3,
     "metadata": {},
     "output_type": "execute_result"
    }
   ],
   "source": [
    "%time prob021()"
   ]
  },
  {
   "cell_type": "markdown",
   "metadata": {},
   "source": [
    "## Problem 22\n",
    "\n",
    "[Names scores](https://projecteuler.net/problem=22)\n",
    "\n",
    "> <p>Using <a href=\"project/resources/p022_names.txt\">names.txt</a> (right click and 'Save Link/Target As...'), a 46K text file containing over five-thousand first names, begin by sorting it into alphabetical order. Then working out the alphabetical value for each name, multiply this value by its alphabetical position in the list to obtain a name score.</p>\n",
    "> <p>For example, when the list is sorted into alphabetical order, COLIN, which is worth 3 + 15 + 12 + 9 + 14 = 53, is the 938th name in the list. So, COLIN would obtain a score of 938 × 53 = 49714.</p>\n",
    "> <p>What is the total of all the name scores in the file?</p>"
   ]
  },
  {
   "cell_type": "code",
   "execution_count": 4,
   "metadata": {},
   "outputs": [],
   "source": [
    "import urllib.request\n",
    "\n",
    "\n",
    "def worth(name: str) -> int:\n",
    "    \"\"\"\n",
    "    >>> worth('COLIN')\n",
    "    53\n",
    "    \"\"\"\n",
    "    return sum(ord(c) - ord(\"A\") + 1 for c in name.upper())\n",
    "\n",
    "\n",
    "def prob022():\n",
    "    URL022 = \"https://projecteuler.net/project/resources/p022_names.txt\"\n",
    "    with urllib.request.urlopen(URL022) as f:\n",
    "        raw = f.read()\n",
    "\n",
    "    s = raw.decode()\n",
    "    names = s.replace('\"', \"\").split(\",\")\n",
    "    return sum(i * worth(name) for i, name in enumerate(names, 1))\n"
   ]
  },
  {
   "cell_type": "code",
   "execution_count": 5,
   "metadata": {},
   "outputs": [
    {
     "data": {
      "text/plain": [
       "850081394"
      ]
     },
     "execution_count": 5,
     "metadata": {},
     "output_type": "execute_result"
    }
   ],
   "source": [
    "prob022()"
   ]
  },
  {
   "cell_type": "markdown",
   "metadata": {},
   "source": [
    "## Problem 23\n",
    "\n",
    "[Non-abundant sums](https://projecteuler.net/problem=23)\n",
    "\n",
    "> <p>A perfect number is a number for which the sum of its proper divisors is exactly equal to the number. For example, the sum of the proper divisors of 28 would be 1 + 2 + 4 + 7 + 14 = 28, which means that 28 is a perfect number.</p>\n",
    "> <p>A number <var>n</var> is called deficient if the sum of its proper divisors is less than <var>n</var> and it is called abundant if this sum exceeds <var>n</var>.</p>\n",
    "> <p>As 12 is the smallest abundant number, 1 + 2 + 3 + 4 + 6 = 16, the smallest number that can be written as the sum of two abundant numbers is 24. By mathematical analysis, it can be shown that all integers greater than 28123 can be written as the sum of two abundant numbers. However, this upper limit cannot be reduced any further by analysis even though it is known that the greatest number that cannot be expressed as the sum of two abundant numbers is less than this limit.</p>\n",
    "> <p>Find the sum of all the positive integers which cannot be written as the sum of two abundant numbers.</p>"
   ]
  },
  {
   "cell_type": "code",
   "execution_count": 6,
   "metadata": {},
   "outputs": [],
   "source": [
    "import math\n",
    "\n",
    "\n",
    "# Reproduced from Problem 21\n",
    "def proper_divisor_sum(n: int) -> int:\n",
    "    \"\"\"\n",
    "    >>> proper_divisor_sum(220)\n",
    "    284\n",
    "    \n",
    "    Note: `sympy.divisor_sigma(n, k)` gives more divisor functions.\n",
    "    \"\"\"\n",
    "    assert n >= 1\n",
    "\n",
    "    divisors = set()\n",
    "    ub = int(math.sqrt(n))\n",
    "    for i in range(1, ub + 1):\n",
    "        if n % i == 0:\n",
    "            divisors.add(i)\n",
    "            divisors.add(n // i)\n",
    "    return sum(divisors) - n\n",
    "\n",
    "\n",
    "def is_abundant(n: int) -> bool:\n",
    "    return proper_divisor_sum(n) > n\n",
    "\n",
    "\n",
    "def prob023():\n",
    "    ub = 28123\n",
    "    abundant_numbers = {i for i in range(1, ub + 1) if is_abundant(i)}\n",
    "\n",
    "    def _can_be_sum_of_two_abundant(n):\n",
    "        return any(\n",
    "            i in abundant_numbers and (n - i) in abundant_numbers\n",
    "            for i in range(1, n // 2 + 1)\n",
    "        )\n",
    "\n",
    "    res = {n for n in range(1, ub + 1) if not _can_be_sum_of_two_abundant(n)}\n",
    "    return sum(res)\n"
   ]
  },
  {
   "cell_type": "code",
   "execution_count": 7,
   "metadata": {},
   "outputs": [
    {
     "name": "stdout",
     "output_type": "stream",
     "text": [
      "CPU times: user 1.92 s, sys: 1.93 ms, total: 1.92 s\n",
      "Wall time: 1.92 s\n"
     ]
    },
    {
     "data": {
      "text/plain": [
       "4179871"
      ]
     },
     "execution_count": 7,
     "metadata": {},
     "output_type": "execute_result"
    }
   ],
   "source": [
    "%time prob023()"
   ]
  },
  {
   "cell_type": "markdown",
   "metadata": {},
   "source": [
    "## Problem 24\n",
    "\n",
    "[Lexicographic permutations](https://projecteuler.net/problem=24)\n",
    "\n",
    "> <p>A permutation is an ordered arrangement of objects. For example, 3124 is one possible permutation of the digits 1, 2, 3 and 4. If all of the permutations are listed numerically or alphabetically, we call it lexicographic order. The lexicographic permutations of 0, 1 and 2 are:</p>\n",
    "> <p style=\"text-align:center;\">012   021   102   120   201   210</p>\n",
    "> <p>What is the millionth lexicographic permutation of the digits 0, 1, 2, 3, 4, 5, 6, 7, 8 and 9?</p>"
   ]
  },
  {
   "cell_type": "code",
   "execution_count": 8,
   "metadata": {},
   "outputs": [],
   "source": [
    "import functools\n",
    "import operator\n",
    "\n",
    "\n",
    "def factorial(n:int) -> int:\n",
    "    return functools.reduce(operator.mul, range(1, n+1), 1)\n",
    "\n",
    "\n",
    "def prob024(digits=tuple(range(10)), rank=1000000):\n",
    "    n = len(digits)\n",
    "    d = list(digits)\n",
    "    result = []\n",
    "    for i in range(n-1, -1, -1):\n",
    "        idx, rank = divmod(rank, factorial(i))\n",
    "        result.append(d[idx])\n",
    "        del d[idx]\n",
    "\n",
    "    return ''.join(str(i) for i in result)"
   ]
  },
  {
   "cell_type": "code",
   "execution_count": 9,
   "metadata": {},
   "outputs": [
    {
     "name": "stdout",
     "output_type": "stream",
     "text": [
      "CPU times: user 30 µs, sys: 2 µs, total: 32 µs\n",
      "Wall time: 36.2 µs\n"
     ]
    },
    {
     "data": {
      "text/plain": [
       "'2783915604'"
      ]
     },
     "execution_count": 9,
     "metadata": {},
     "output_type": "execute_result"
    }
   ],
   "source": [
    "%time prob024()"
   ]
  },
  {
   "cell_type": "markdown",
   "metadata": {},
   "source": [
    "## Problem 25\n",
    "\n",
    "[1000-digit Fibonacci number](https://projecteuler.net/problem=25)\n",
    "\n",
    "> The Fibonacci sequence is defined by the recurrence relation:\n",
    ">\n",
    "> $$ F_n = F_{n−1} + F_{n−2}, \\quad \\text{ where } \\quad F_1 = 1 \\quad \\text{ and } \\quad F_2 = 1. $$\n",
    ">\n",
    "> Hence the first 12 terms will be:\n",
    "> \n",
    "> $$ \n",
    "\\begin{align*}\n",
    "    F_1 &= 1  \\\\\n",
    "    F_2 &= 1  \\\\\n",
    "    F_3 &= 2  \\\\\n",
    "    F_4 &= 3  \\\\\n",
    "    F_5 &= 5   \\\\\n",
    "    F_6 &= 8   \\\\\n",
    "    F_7 &= 13  \\\\\n",
    "    F_8 &= 21  \\\\\n",
    "    F_9 &= 34  \\\\\n",
    "    F_{10} &= 55 \\\\\n",
    "    F_{11} &= 89 \\\\\n",
    "    F_{12} &= 144\n",
    "\\end{align*}\n",
    "$$\n",
    ">\n",
    ">  The 12th term, $F_{12}$, is the first term to contain three digits.\n",
    "> \n",
    "> What is the index of the first term in the Fibonacci sequence to contain $1000$ digits?"
   ]
  },
  {
   "cell_type": "code",
   "execution_count": 10,
   "metadata": {},
   "outputs": [],
   "source": [
    "import itertools\n",
    "\n",
    "# Reproduced from Problem 2\n",
    "def fibonacci():\n",
    "    i, j = 0, 1\n",
    "    yield j\n",
    "    while True:\n",
    "        (i, j) = (j, i + j)\n",
    "        yield j\n",
    "\n",
    "\n",
    "def star(f):\n",
    "    \"\"\"\n",
    "    This enables tuple unpacking that was removed in python 3.\n",
    "    http://stackoverflow.com/questions/21892989/\n",
    "\n",
    "    >>> points = [(1, 2), (-1, 0)]\n",
    "    >>> min(points, key=star(lambda x,y: x*x + y*y))\n",
    "    (-1, 0)\n",
    "    \"\"\"\n",
    "\n",
    "    def _g(args):\n",
    "        return f(*args)\n",
    "\n",
    "    return _g\n",
    "\n",
    "\n",
    "def digit_length(n: int) -> int:\n",
    "    return len(str(n))\n",
    "\n",
    "\n",
    "def prob025(digits=1000):\n",
    "    \"\"\"\n",
    "    >>> prob025(digits=3)\n",
    "    12\n",
    "    \"\"\"\n",
    "    fibs = fibonacci()\n",
    "    res, _ = next(\n",
    "        itertools.dropwhile(\n",
    "            star(lambda _, v: digit_length(v) < digits), enumerate(fibs, 1)\n",
    "        )\n",
    "    )\n",
    "    return res\n"
   ]
  },
  {
   "cell_type": "code",
   "execution_count": 11,
   "metadata": {},
   "outputs": [
    {
     "data": {
      "text/plain": [
       "4782"
      ]
     },
     "execution_count": 11,
     "metadata": {},
     "output_type": "execute_result"
    }
   ],
   "source": [
    "prob025()"
   ]
  },
  {
   "cell_type": "markdown",
   "metadata": {},
   "source": [
    "## Problem 26\n",
    "\n",
    "[Reciprocal cycles](https://projecteuler.net/problem=26)\n",
    "\n",
    "> <p>A unit fraction contains 1 in the numerator. The decimal representation of the unit fractions with denominators 2 to 10 are given:</p>\n",
    "> <blockquote><table><tr><td><sup>1</sup>/<sub>2</sub></td><td>= </td><td>0.5</td></tr><tr><td><sup>1</sup>/<sub>3</sub></td><td>= </td><td>0.(3)</td></tr><tr><td><sup>1</sup>/<sub>4</sub></td><td>= </td><td>0.25</td></tr><tr><td><sup>1</sup>/<sub>5</sub></td><td>= </td><td>0.2</td></tr><tr><td><sup>1</sup>/<sub>6</sub></td><td>= </td><td>0.1(6)</td></tr><tr><td><sup>1</sup>/<sub>7</sub></td><td>= </td><td>0.(142857)</td></tr><tr><td><sup>1</sup>/<sub>8</sub></td><td>= </td><td>0.125</td></tr><tr><td><sup>1</sup>/<sub>9</sub></td><td>= </td><td>0.(1)</td></tr><tr><td><sup>1</sup>/<sub>10</sub></td><td>= </td><td>0.1</td></tr></table></blockquote>\n",
    "> <p>Where 0.1(6) means 0.166666..., and has a 1-digit recurring cycle. It can be seen that <sup>1</sup>/<sub>7</sub> has a 6-digit recurring cycle.</p>\n",
    "> <p>Find the value of <i>d</i> &lt; 1000 for which <sup>1</sup>/<sub><i>d</i></sub> contains the longest recurring cycle in its decimal fraction part.</p>"
   ]
  },
  {
   "cell_type": "markdown",
   "metadata": {},
   "source": [
    "Only numbers composed purely of primes 2 and/or 5 are divisible. Length $x$ of the recurring cycle of $1/p$ is determined by the minimum integer $x$ satisfing \n",
    "\n",
    "$$ 10^x - 1 \\equiv 0 \\pmod{p} $$\n",
    "\n",
    "\n",
    "\n",
    "For example with $Z = 1/7 = 0.(142857)$, \n",
    "$$ \n",
    "\\begin{align*}\n",
    "    10^6 Z &= 142857.(142857) \\\\\n",
    "         Z &=  0.(142857) \n",
    "\\end{align*}\n",
    "$$\n",
    "\n",
    "Substracting one equation from the other, we can cancell out the decimal fraction part, giving\n",
    "\n",
    "$$  Z = \\frac{142857}{10^6 - 1}. $$"
   ]
  },
  {
   "cell_type": "code",
   "execution_count": 12,
   "metadata": {},
   "outputs": [],
   "source": [
    "import itertools as it\n",
    "\n",
    "\n",
    "def psudo_primes():\n",
    "    \"\"\"\n",
    "    psudo-prime numbers that exclude 2, 5 or multiples of them\n",
    "    \"\"\"\n",
    "    yield 3\n",
    "    x = 5\n",
    "    while True:\n",
    "        if x % 5 > 0:\n",
    "            yield x\n",
    "        x += 2\n",
    "        if x % 5 > 0:\n",
    "            yield x\n",
    "        x += 4\n",
    "\n",
    "\n",
    "def recurring_cycle_length(p):\n",
    "    assert p > 0\n",
    "    assert p % 2 > 0\n",
    "    assert p % 5 > 0\n",
    "    return next(i for i in it.count(1) if (10 ** i - 1) % p == 0)\n",
    "\n",
    "\n",
    "def prob027(dmax=1000):\n",
    "    \"\"\"\n",
    "    >>> prob027(dmax=10)\n",
    "    7\n",
    "    \"\"\"\n",
    "    prime_like = it.takewhile(lambda p: p < dmax, psudo_primes())\n",
    "    return max(prime_like, key=recurring_cycle_length)\n"
   ]
  },
  {
   "cell_type": "code",
   "execution_count": 13,
   "metadata": {},
   "outputs": [
    {
     "name": "stdout",
     "output_type": "stream",
     "text": [
      "114 ms ± 18.7 ms per loop (mean ± std. dev. of 7 runs, 10 loops each)\n"
     ]
    }
   ],
   "source": [
    "%timeit prob027()"
   ]
  },
  {
   "cell_type": "markdown",
   "metadata": {},
   "source": [
    "## Problem 27\n",
    "\n",
    "[Quadratic primes](https://projecteuler.net/problem=27)\n",
    "\n",
    "> <p>Euler discovered the remarkable quadratic formula:</p>\n",
    "> <p style=\"text-align:center;\">$n^2 + n + 41$</p>\n",
    "> <p>It turns out that the formula will produce 40 primes for the consecutive integer values $0 \\le n \\le 39$. However, when $n = 40, 40^2 + 40 + 41 = 40(40 + 1) + 41$ is divisible by 41, and certainly when $n = 41, 41^2 + 41 + 41$ is clearly divisible by 41.</p>\n",
    "> <p>The incredible formula $n^2 - 79n + 1601$ was discovered, which produces 80 primes for the consecutive values $0 \\le n \\le 79$. The product of the coefficients, −79 and 1601, is −126479.</p>\n",
    "> <p>Considering quadratics of the form:</p>\n",
    "> <blockquote>$n^2 + an + b$, where $|a| < 1000$ and $|b| \\le 1000$<br/><br/><div>where $|n|$ is the modulus/absolute value of $n$<br/>e.g. $|11| = 11$ and $|-4| = 4$</div></blockquote>\n",
    "> <p>Find the product of the coefficients, $a$ and $b$, for the quadratic expression that produces the maximum number of primes for consecutive values of $n$, starting with $n = 0$.</p>"
   ]
  },
  {
   "cell_type": "markdown",
   "metadata": {},
   "source": [
    "Let $f(n) = n^2 + a n + b$. When $n=0$, $f(0) = b$ must be prime. When $n=1$, $f(1) = 1 + a + b$ must be prime. So $a$ must be odd unless $b = \\pm 2$; note $b = \\pm 2$ cannot make $f(2) = 4 + 2a +b$ prime for any choice of $a$. Therefore, we restrict $a$ and $b$ by\n",
    "\n",
    "- $b$ is prime (positive)\n",
    "- $a$ is even\n",
    "- $a + b > 0$"
   ]
  },
  {
   "cell_type": "code",
   "execution_count": 14,
   "metadata": {},
   "outputs": [],
   "source": [
    "import itertools as it\n",
    "import math\n",
    "\n",
    "\n",
    "def psudo_primes():\n",
    "    yield 3\n",
    "    x = 5\n",
    "    while True:\n",
    "        yield x\n",
    "        x += 2\n",
    "        yield x\n",
    "        x += 4\n",
    "\n",
    "\n",
    "def is_prime(n: int) -> bool:\n",
    "    \"\"\"\n",
    "    >>> is_prime(19)\n",
    "    True\n",
    "    \"\"\"\n",
    "    if n < 2:\n",
    "        return False\n",
    "    elif n % 2 == 0:\n",
    "        return False\n",
    "    else:\n",
    "        candidates = it.takewhile(lambda x: x <= int(math.sqrt(n)), psudo_primes())\n",
    "        return all(n % p > 0 for p in candidates)\n",
    "\n",
    "\n",
    "def consecutive_prime_len(a, b):\n",
    "    \"\"\"\n",
    "    >>> consecutive_prime_len(a=1, b=41)\n",
    "    40\n",
    "    \"\"\"\n",
    "\n",
    "    def quadratic(n):\n",
    "        return (n + a) * n + b\n",
    "\n",
    "    iterable = it.takewhile(lambda i: is_prime(quadratic(i)), it.count())\n",
    "    return sum(1 for _ in iterable)\n",
    "\n",
    "\n",
    "def prob027():\n",
    "    ps = it.takewhile(lambda x: x < 1000, psudo_primes())\n",
    "    (size, a, b) = max(\n",
    "        (consecutive_prime_len(a, b), a, b)\n",
    "        for b in ps\n",
    "        for a in range(-999, 1000, 2)\n",
    "        if a + b > 0\n",
    "    )\n",
    "    res = (f\"With (a, b) = ({a}, {b}), one gets {size} consecutive primes: \"\n",
    "           f\"a x b = {a * b}\")\n",
    "    print(res)\n"
   ]
  },
  {
   "cell_type": "code",
   "execution_count": 15,
   "metadata": {},
   "outputs": [
    {
     "name": "stdout",
     "output_type": "stream",
     "text": [
      "With (a, b) = (-61, 971), one gets 71 consecutive primes: a x b = -59231\n",
      "CPU times: user 2.92 s, sys: 14 µs, total: 2.92 s\n",
      "Wall time: 2.91 s\n"
     ]
    }
   ],
   "source": [
    "%time prob027()"
   ]
  },
  {
   "cell_type": "markdown",
   "metadata": {},
   "source": [
    "## Problem 28\n",
    "\n",
    "[Number spiral diagonals](https://projecteuler.net/problem=28)\n",
    "\n",
    "> <p>Starting with the number 1 and moving to the right in a clockwise direction a 5 by 5 spiral is formed as follows:</p>\n",
    "> <p style=\"text-align:center;font-family:'courier new';\"><span style=\"color:#ff0000;font-family:'courier new';\"><b>21</b></span> 22 23 24 <span style=\"color:#ff0000;font-family:'courier new';\"><b>25</b></span><br/>20  <span style=\"color:#ff0000;font-family:'courier new';\"><b>7</b></span>  8  <span style=\"color:#ff0000;font-family:'courier new';\"><b>9</b></span> 10<br/>19  6  <span style=\"color:#ff0000;font-family:'courier new';\"><b>1</b></span>  2 11<br/>18  <span style=\"color:#ff0000;font-family:'courier new';\"><b>5</b></span>  4  <span style=\"color:#ff0000;font-family:'courier new';\"><b>3</b></span> 12<br/><span style=\"color:#ff0000;font-family:'courier new';\"><b>17</b></span> 16 15 14 <span style=\"color:#ff0000;font-family:'courier new';\"><b>13</b></span></p>\n",
    "> <p>It can be verified that the sum of the numbers on the diagonals is 101.</p>\n",
    "> <p>What is the sum of the numbers on the diagonals in a 1001 by 1001 spiral formed in the same way?</p>"
   ]
  },
  {
   "cell_type": "markdown",
   "metadata": {},
   "source": [
    "From observation I see increments are 2, 2, 2, 2, 4, 4, 4, 4, 6, 6, 6, 6, ... starting form 1."
   ]
  },
  {
   "cell_type": "code",
   "execution_count": 16,
   "metadata": {},
   "outputs": [],
   "source": [
    "import itertools as it\n",
    "\n",
    "def increments():\n",
    "    yield 1\n",
    "    x = 2\n",
    "    while True:\n",
    "        for _ in range(4):\n",
    "            yield x\n",
    "        x += 2\n",
    "\n",
    "def prob028(n=1001):\n",
    "    \"\"\"\n",
    "    >>> prob028(5)\n",
    "    101\n",
    "    \"\"\"\n",
    "    incs = it.takewhile(lambda x: x <= n - 1, increments())\n",
    "    vals = it.accumulate(incs)\n",
    "    return sum(vals)"
   ]
  },
  {
   "cell_type": "code",
   "execution_count": 17,
   "metadata": {},
   "outputs": [
    {
     "name": "stdout",
     "output_type": "stream",
     "text": [
      "CPU times: user 1.14 ms, sys: 1 µs, total: 1.14 ms\n",
      "Wall time: 1.18 ms\n"
     ]
    },
    {
     "data": {
      "text/plain": [
       "669171001"
      ]
     },
     "execution_count": 17,
     "metadata": {},
     "output_type": "execute_result"
    }
   ],
   "source": [
    "%time prob028()"
   ]
  },
  {
   "cell_type": "markdown",
   "metadata": {},
   "source": [
    "## Problem 29\n",
    "\n",
    "[Distinct powers](https://projecteuler.net/problem=29)\n",
    "\n",
    "> <p>Consider all integer combinations of <i>a</i><sup><i>b</i></sup> for 2 ≤ <i>a</i> ≤ 5 and 2 ≤ <i>b</i> ≤ 5:</p>\n",
    "> <blockquote>2<sup>2</sup>=4, 2<sup>3</sup>=8, 2<sup>4</sup>=16, 2<sup>5</sup>=32<br/>3<sup>2</sup>=9, 3<sup>3</sup>=27, 3<sup>4</sup>=81, 3<sup>5</sup>=243<br/>4<sup>2</sup>=16, 4<sup>3</sup>=64, 4<sup>4</sup>=256, 4<sup>5</sup>=1024<br/>5<sup>2</sup>=25, 5<sup>3</sup>=125, 5<sup>4</sup>=625, 5<sup>5</sup>=3125<br/></blockquote>\n",
    "> <p>If they are then placed in numerical order, with any repeats removed, we get the following sequence of 15 distinct terms:</p>\n",
    "> <p style=\"text-align:center;\">4, 8, 9, 16, 25, 27, 32, 64, 81, 125, 243, 256, 625, 1024, 3125</p>\n",
    "> <p>How many distinct terms are in the sequence generated by <i>a</i><sup><i>b</i></sup> for 2 ≤ <i>a</i> ≤ 100 and 2 ≤ <i>b</i> ≤ 100?</p>"
   ]
  },
  {
   "cell_type": "markdown",
   "metadata": {},
   "source": [
    "Brute force approach is good enough. Use `set` to handle duplicates."
   ]
  },
  {
   "cell_type": "code",
   "execution_count": 18,
   "metadata": {},
   "outputs": [],
   "source": [
    "def prob029():\n",
    "    return len({a**b for a in range(2, 101) for b in range(2, 101)})"
   ]
  },
  {
   "cell_type": "code",
   "execution_count": 19,
   "metadata": {},
   "outputs": [
    {
     "name": "stdout",
     "output_type": "stream",
     "text": [
      "CPU times: user 9 ms, sys: 0 ns, total: 9 ms\n",
      "Wall time: 8.95 ms\n"
     ]
    },
    {
     "data": {
      "text/plain": [
       "9183"
      ]
     },
     "execution_count": 19,
     "metadata": {},
     "output_type": "execute_result"
    }
   ],
   "source": [
    "%time prob029()"
   ]
  },
  {
   "cell_type": "markdown",
   "metadata": {},
   "source": [
    "## Problem 30\n",
    "\n",
    "[Digit fifth powers](https://projecteuler.net/problem=30)\n",
    "\n",
    "> <p>Surprisingly there are only three numbers that can be written as the sum of fourth powers of their digits:</p>\n",
    "> <blockquote>1634 = 1<sup>4</sup> + 6<sup>4</sup> + 3<sup>4</sup> + 4<sup>4</sup><br/>8208 = 8<sup>4</sup> + 2<sup>4</sup> + 0<sup>4</sup> + 8<sup>4</sup><br/>9474 = 9<sup>4</sup> + 4<sup>4</sup> + 7<sup>4</sup> + 4<sup>4</sup></blockquote>\n",
    "> <p class=\"info\">As 1 = 1<sup>4</sup> is not a sum it is not included.</p>\n",
    "> <p>The sum of these numbers is 1634 + 8208 + 9474 = 19316.</p>\n",
    "> <p>Find the sum of all the numbers that can be written as the sum of fifth powers of their digits.</p>"
   ]
  },
  {
   "cell_type": "markdown",
   "metadata": {},
   "source": [
    "Upper limit exists. A $k$-digit number $x$ is in range $10^{k-1} \\leq x < 10^k$, and the maximum possible sum of fifth powers of digits is $9^5 k$. So, $9^5 k < 10^{k-1} < x$ and equality never holds for $k \\geq 7$. With $k=6$, the maximum possible sum of fifth powers of digits is $6 \\times 9^5 = 354294$. So choose this number as an upper bound."
   ]
  },
  {
   "cell_type": "code",
   "execution_count": 20,
   "metadata": {},
   "outputs": [],
   "source": [
    "def integerdigits(n):\n",
    "    \"\"\"Construct list of decimal digits from the integer n\n",
    "\n",
    "    >>> integerdigits(235)\n",
    "    [2, 3, 5]\n",
    "    \"\"\"\n",
    "    return [int(i) for i in str(n)]\n",
    "\n",
    "\n",
    "def prob030(pow=5):\n",
    "    \"\"\"\n",
    "    >>> prob030(pow=4)\n",
    "    19316\n",
    "    \"\"\"\n",
    "    ub = 6 * 9**pow\n",
    "    return sum(n for n in range(2, ub) if sum(d**pow for d in integerdigits(n)) == n)"
   ]
  },
  {
   "cell_type": "code",
   "execution_count": 21,
   "metadata": {},
   "outputs": [
    {
     "name": "stdout",
     "output_type": "stream",
     "text": [
      "CPU times: user 1.65 s, sys: 13.6 ms, total: 1.67 s\n",
      "Wall time: 1.67 s\n"
     ]
    },
    {
     "data": {
      "text/plain": [
       "443839"
      ]
     },
     "execution_count": 21,
     "metadata": {},
     "output_type": "execute_result"
    }
   ],
   "source": [
    "%time prob030()"
   ]
  },
  {
   "cell_type": "markdown",
   "metadata": {},
   "source": [
    "## Doctests"
   ]
  },
  {
   "cell_type": "code",
   "execution_count": 22,
   "metadata": {},
   "outputs": [
    {
     "data": {
      "text/plain": [
       "TestResults(failed=0, attempted=11)"
      ]
     },
     "execution_count": 22,
     "metadata": {},
     "output_type": "execute_result"
    }
   ],
   "source": [
    "import doctest\n",
    "doctest.testmod()"
   ]
  }
 ],
 "metadata": {
  "kernelspec": {
   "display_name": "Python 3",
   "language": "python",
   "name": "python3"
  },
  "language_info": {
   "codemirror_mode": {
    "name": "ipython",
    "version": 3
   },
   "file_extension": ".py",
   "mimetype": "text/x-python",
   "name": "python",
   "nbconvert_exporter": "python",
   "pygments_lexer": "ipython3",
   "version": "3.6.5"
  }
 },
 "nbformat": 4,
 "nbformat_minor": 1
}
