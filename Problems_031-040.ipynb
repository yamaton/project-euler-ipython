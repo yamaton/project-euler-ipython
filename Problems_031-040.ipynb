{
 "cells": [
  {
   "cell_type": "markdown",
   "metadata": {},
   "source": [
    "# Project Euler 21 - 30"
   ]
  },
  {
   "cell_type": "code",
   "execution_count": 1,
   "metadata": {},
   "outputs": [],
   "source": [
    "%load_ext fetch_euler_problem"
   ]
  },
  {
   "cell_type": "markdown",
   "metadata": {},
   "source": [
    "## Problem 31\n",
    "\n",
    "[Coin sums](https://projecteuler.net/problem=31)\n",
    "\n",
    "> <p>In England the currency is made up of pound, £, and pence, p, and there are eight coins in general circulation:</p>\n",
    "> <blockquote>1p, 2p, 5p, 10p, 20p, 50p, £1 (100p) and £2 (200p).</blockquote>\n",
    "> <p>It is possible to make £2 in the following way:</p>\n",
    "> <blockquote>1×£1 + 1×50p + 2×20p + 1×5p + 1×2p + 3×1p</blockquote>\n",
    "> <p>How many different ways can £2 be made using any number of coins?</p>"
   ]
  },
  {
   "cell_type": "markdown",
   "metadata": {},
   "source": [
    "This is a standard DP (dynamic programming) problem using a recursive relation.\n",
    "\n",
    "Let $d(t, c)$ be the number of different ways to pay $t$ pence with coins up to $c$-th kind. For example, $d(11, 3)$ represents number of ways to pay 11 pence with coins $\\{1\\textrm{p}, 2\\textrm{p}, 5\\textrm{p}\\}$. There is recursive relation between $c+1$ and $c$ by\n",
    "\n",
    "$$ d(t, c+1) = \\sum_{k = 0, 1, 2, \\dots} d(t - k \\, v_{c+1}, c) $$\n",
    "\n",
    "where $v_c$ represents value of the $c$-th coin. We also know that $d(0, 0) = 1$ and $d(t, 0) = 0$ for $t > 0$ as boundary conditions.\n",
    "\n",
    "Our goal is to pay $200$ pence with $8$ different coins $(1, 2, 5, 10, 20, 50, 100, 200)$, which is $d(200, 8)$. We assign two dimensional state space starting from "
   ]
  },
  {
   "cell_type": "code",
   "execution_count": 2,
   "metadata": {},
   "outputs": [],
   "source": [
    "import collections\n",
    "\n",
    "\n",
    "def prob031_dp(target=200):\n",
    "    coins = [1, 2, 5, 10, 20, 50, 100, 200]\n",
    "    n = len(coins)\n",
    "    d = collections.defaultdict(int)\n",
    "    d[(0, 0)] = 1\n",
    "    for c in range(n):\n",
    "        v = coins[c]\n",
    "        for t in range(target + 1):\n",
    "            d[(t, c + 1)] = sum(d[(t - i * v, c)] for i in range(t // v + 1))\n",
    "    return d[(200, n)]\n"
   ]
  },
  {
   "cell_type": "code",
   "execution_count": 3,
   "metadata": {},
   "outputs": [
    {
     "name": "stdout",
     "output_type": "stream",
     "text": [
      "CPU times: user 15.7 ms, sys: 939 µs, total: 16.7 ms\n",
      "Wall time: 19 ms\n"
     ]
    },
    {
     "data": {
      "text/plain": [
       "73682"
      ]
     },
     "execution_count": 3,
     "metadata": {},
     "output_type": "execute_result"
    }
   ],
   "source": [
    "%time prob031_dp()"
   ]
  },
  {
   "cell_type": "markdown",
   "metadata": {},
   "source": [
    "With memoisation."
   ]
  },
  {
   "cell_type": "code",
   "execution_count": 4,
   "metadata": {},
   "outputs": [],
   "source": [
    "import functools\n",
    "\n",
    "\n",
    "@functools.lru_cache(maxsize=1000000)\n",
    "def _helper(total, coins):\n",
    "    if total < 0:\n",
    "        return 0\n",
    "    elif total == 0:\n",
    "        return 1\n",
    "    elif len(coins) == 0:\n",
    "        return 0\n",
    "    else:\n",
    "        return _helper(total, coins[1:]) + _helper(total - coins[0], coins)\n",
    "\n",
    "\n",
    "def prob031(total=200):\n",
    "    return _helper(total, (200, 100, 50, 20, 10, 5, 2, 1))\n"
   ]
  },
  {
   "cell_type": "code",
   "execution_count": 5,
   "metadata": {},
   "outputs": [
    {
     "name": "stdout",
     "output_type": "stream",
     "text": [
      "CPU times: user 1.47 ms, sys: 0 ns, total: 1.47 ms\n",
      "Wall time: 1.48 ms\n"
     ]
    },
    {
     "data": {
      "text/plain": [
       "73682"
      ]
     },
     "execution_count": 5,
     "metadata": {},
     "output_type": "execute_result"
    }
   ],
   "source": [
    "%time prob031()"
   ]
  },
  {
   "cell_type": "markdown",
   "metadata": {},
   "source": [
    "## Problem 32\n",
    "\n",
    "[Pandigital products](https://projecteuler.net/problem=32)\n",
    "\n",
    "> <p>We shall say that an <var>n</var>-digit number is pandigital if it makes use of all the digits 1 to <var>n</var> exactly once; for example, the 5-digit number, 15234, is 1 through 5 pandigital.</p>\n",
    "> <p>The product 7254 is unusual, as the identity, 39 × 186 = 7254, containing multiplicand, multiplier, and product is 1 through 9 pandigital.</p>\n",
    "> <p>Find the sum of all products whose multiplicand/multiplier/product identity can be written as a 1 through 9 pandigital.</p>\n",
    "> <div class=\"note\">HINT: Some products can be obtained in more than one way so be sure to only include it once in your sum.</div>"
   ]
  },
  {
   "cell_type": "markdown",
   "metadata": {
    "collapsed": true
   },
   "source": [
    "Let $d(x)$ be the numbers of digits of a positive integer $x$. Then following holds.\n",
    "\n",
    "$$    10^{d(x)-1} \\leq x < 10^{d(x)}  $$\n",
    "\n",
    "Product of two integers, $x$ and $y$, is hence\n",
    "\n",
    "$$ 10^{d(x) + d(y) -2} \\leq x y < 10^{d(x) + d(y)}, $$\n",
    "\n",
    "or\n",
    "\n",
    "$$  d(x) + d(y) - 1 \\leq  d(x y)  \\leq d(x) + d(y).  $$\n",
    "\n",
    "We also impose that digits of $x$, $y$ and $x y$ forms pandigital (1 through 9) in total.\n",
    "\n",
    "$$    d(x) + d(y) + d(x y) = 9. $$\n",
    "\n",
    "From these relations, and that $d(z)$ is an integer, we have\n",
    "\n",
    "$$    d(x) + d(y) = 5  $$\n",
    "\n",
    "For $x \\leq y$, we have $(d(x), d(y)) = (1, 4)$ or $(2, 3)$."
   ]
  },
  {
   "cell_type": "code",
   "execution_count": 6,
   "metadata": {},
   "outputs": [],
   "source": [
    "import collections\n",
    "\n",
    "\n",
    "def integerdigits(n):\n",
    "    return map(int, str(n))\n",
    "\n",
    "\n",
    "def is_pandigital(x, through):\n",
    "    \"\"\"\n",
    "    >>> is_pandigital(15234, through=5)\n",
    "    True\n",
    "    \"\"\"\n",
    "    if len(str(x)) != through:\n",
    "        return False\n",
    "\n",
    "    ref = set(range(1, through + 1))\n",
    "    s = set(integerdigits(x))\n",
    "    return ref == s\n",
    "\n",
    "\n",
    "def forming_pandigital_product(x, y):\n",
    "    \"\"\"\n",
    "    >>> forming_pandigital_product(39, 186)\n",
    "    True\n",
    "    \"\"\"\n",
    "    n = int(str(x) + str(y) + str(x * y))\n",
    "    return is_pandigital(n, through=9)\n",
    "\n",
    "\n",
    "def prob032():\n",
    "    set1 = {\n",
    "        (x, y, x * y)\n",
    "        for x in range(10)           # digit length = 1\n",
    "        for y in range(1000, 10000)  # digit length = 4\n",
    "        if forming_pandigital_product(x, y)\n",
    "    }\n",
    "    set2 = {\n",
    "        (x, y, x * y)\n",
    "        for x in range(10, 100)      # digit length = 2\n",
    "        for y in range(100, 1000)    # digit length = 3\n",
    "        if forming_pandigital_product(x, y)\n",
    "    }\n",
    "    s = set1 | set2\n",
    "    print(s)\n",
    "    return sum({p for _, _, p in s})\n"
   ]
  },
  {
   "cell_type": "code",
   "execution_count": 7,
   "metadata": {},
   "outputs": [
    {
     "name": "stdout",
     "output_type": "stream",
     "text": [
      "{(4, 1963, 7852), (28, 157, 4396), (18, 297, 5346), (39, 186, 7254), (4, 1738, 6952), (27, 198, 5346), (12, 483, 5796), (42, 138, 5796), (48, 159, 7632)}\n",
      "CPU times: user 466 ms, sys: 3.3 ms, total: 469 ms\n",
      "Wall time: 463 ms\n"
     ]
    },
    {
     "data": {
      "text/plain": [
       "45228"
      ]
     },
     "execution_count": 7,
     "metadata": {},
     "output_type": "execute_result"
    }
   ],
   "source": [
    "%time prob032()"
   ]
  },
  {
   "cell_type": "markdown",
   "metadata": {},
   "source": [
    "## Problem 33\n",
    "\n",
    "[Digit cancelling fractions](https://projecteuler.net/problem=33)\n",
    "\n",
    "> <p>The fraction <sup>49</sup>/<sub>98</sub> is a curious fraction, as an inexperienced mathematician in attempting to simplify it may incorrectly believe that <sup>49</sup>/<sub>98</sub> = <sup>4</sup>/<sub>8</sub>, which is correct, is obtained by cancelling the 9s.</p>\n",
    "> <p>We shall consider fractions like, <sup>30</sup>/<sub>50</sub> = <sup>3</sup>/<sub>5</sub>, to be trivial examples.</p>\n",
    "> <p>There are exactly four non-trivial examples of this type of fraction, less than one in value, and containing two digits in the numerator and denominator.</p>\n",
    "> <p>If the product of these four fractions is given in its lowest common terms, find the value of the denominator.</p>"
   ]
  },
  {
   "cell_type": "markdown",
   "metadata": {},
   "source": [
    "Straightforward implementation works."
   ]
  },
  {
   "cell_type": "code",
   "execution_count": 8,
   "metadata": {},
   "outputs": [],
   "source": [
    "import fractions\n",
    "import functools\n",
    "import operator\n",
    "\n",
    "\n",
    "def integerdigits(n):\n",
    "    return map(int, str(n))\n",
    "\n",
    "\n",
    "def is_curious(numer: int, denom: int) -> bool:\n",
    "    assert numer < denom\n",
    "    assert 10 <= numer < 100\n",
    "    assert 10 <= denom < 100\n",
    "    ns = list(integerdigits(numer))\n",
    "    ds = list(integerdigits(denom))\n",
    "    cancelling = set(ns) & set(ds)\n",
    "\n",
    "    if (not cancelling) or (0 in cancelling):\n",
    "        return False\n",
    "\n",
    "    v = cancelling.pop()\n",
    "    ns.remove(v)\n",
    "    ds.remove(v)\n",
    "    n = ns.pop()\n",
    "    d = ds.pop()\n",
    "    return n * denom == d * numer\n",
    "\n",
    "\n",
    "def product(iterable):\n",
    "    ini = fractions.Fraction(1, 1)\n",
    "    return functools.reduce(operator.mul, iterable, ini)\n",
    "\n",
    "\n",
    "def prob033():\n",
    "    fracs = [\n",
    "        fractions.Fraction(numer, denom)\n",
    "        for numer in range(10, 100)\n",
    "        for denom in range(numer + 1, 100)\n",
    "        if is_curious(numer, denom)\n",
    "    ]\n",
    "    return product(fracs).denominator\n"
   ]
  },
  {
   "cell_type": "code",
   "execution_count": 9,
   "metadata": {},
   "outputs": [
    {
     "name": "stdout",
     "output_type": "stream",
     "text": [
      "CPU times: user 17.3 ms, sys: 0 ns, total: 17.3 ms\n",
      "Wall time: 17.1 ms\n"
     ]
    },
    {
     "data": {
      "text/plain": [
       "100"
      ]
     },
     "execution_count": 9,
     "metadata": {},
     "output_type": "execute_result"
    }
   ],
   "source": [
    "%time prob033()"
   ]
  },
  {
   "cell_type": "markdown",
   "metadata": {},
   "source": [
    "## Problem 34\n",
    "\n",
    "[Digit factorials](https://projecteuler.net/problem=34)\n",
    "\n",
    "> <p>145 is a curious number, as 1! + 4! + 5! = 1 + 24 + 120 = 145.</p>\n",
    "> <p>Find the sum of all numbers which are equal to the sum of the factorial of their digits.</p>\n",
    "> <p class=\"info\">Note: as 1! = 1 and 2! = 2 are not sums they are not included.</p>"
   ]
  },
  {
   "cell_type": "code",
   "execution_count": null,
   "metadata": {},
   "outputs": [],
   "source": []
  },
  {
   "cell_type": "markdown",
   "metadata": {},
   "source": [
    "## Problem 35\n",
    "\n",
    "[Circular primes](https://projecteuler.net/problem=35)\n",
    "\n",
    "> <p>The number, 197, is called a circular prime because all rotations of the digits: 197, 971, and 719, are themselves prime.</p>\n",
    "> <p>There are thirteen such primes below 100: 2, 3, 5, 7, 11, 13, 17, 31, 37, 71, 73, 79, and 97.</p>\n",
    "> <p>How many circular primes are there below one million?</p>"
   ]
  },
  {
   "cell_type": "markdown",
   "metadata": {},
   "source": [
    "## Problem 36\n",
    "\n",
    "[Double-base palindromes](https://projecteuler.net/problem=36)\n",
    "\n",
    "> <p>The decimal number, 585 = 1001001001<sub>2</sub> (binary), is palindromic in both bases.</p>\n",
    "> <p>Find the sum of all numbers, less than one million, which are palindromic in base 10 and base 2.</p>\n",
    "> <p class=\"info\">(Please note that the palindromic number, in either base, may not include leading zeros.)</p>"
   ]
  },
  {
   "cell_type": "markdown",
   "metadata": {},
   "source": [
    "## Problem 37\n",
    "\n",
    "[Truncatable primes](https://projecteuler.net/problem=37)\n",
    "\n",
    "> <p>The number 3797 has an interesting property. Being prime itself, it is possible to continuously remove digits from left to right, and remain prime at each stage: 3797, 797, 97, and 7. Similarly we can work from right to left: 3797, 379, 37, and 3.</p>\n",
    "> <p>Find the sum of the only eleven primes that are both truncatable from left to right and right to left.</p>\n",
    "> <p class=\"info\">NOTE: 2, 3, 5, and 7 are not considered to be truncatable primes.</p>"
   ]
  },
  {
   "cell_type": "markdown",
   "metadata": {},
   "source": [
    "## Problem 38\n",
    "\n",
    "[Pandigital multiples](https://projecteuler.net/problem=38)\n",
    "\n",
    "> <p>Take the number 192 and multiply it by each of 1, 2, and 3:</p>\n",
    "> <blockquote>192 × 1 = 192<br/>192 × 2 = 384<br/>192 × 3 = 576</blockquote>\n",
    "> <p>By concatenating each product we get the 1 to 9 pandigital, 192384576. We will call 192384576 the concatenated product of 192 and (1,2,3)</p>\n",
    "> <p>The same can be achieved by starting with 9 and multiplying by 1, 2, 3, 4, and 5, giving the pandigital, 918273645, which is the concatenated product of 9 and (1,2,3,4,5).</p>\n",
    "> <p>What is the largest 1 to 9 pandigital 9-digit number that can be formed as the concatenated product of an integer with (1,2, ... , <var>n</var>) where <var>n</var> &gt; 1?</p>"
   ]
  },
  {
   "cell_type": "markdown",
   "metadata": {},
   "source": [
    "## Problem 39\n",
    "\n",
    "[Integer right triangles](https://projecteuler.net/problem=39)\n",
    "\n",
    "> <p>If <i>p</i> is the perimeter of a right angle triangle with integral length sides, {<i>a</i>,<i>b</i>,<i>c</i>}, there are exactly three solutions for <i>p</i> = 120.</p>\n",
    "> <p>{20,48,52}, {24,45,51}, {30,40,50}</p>\n",
    "> <p>For which value of <i>p</i> ≤ 1000, is the number of solutions maximised?</p>"
   ]
  },
  {
   "cell_type": "markdown",
   "metadata": {},
   "source": [
    "## Problem 40\n",
    "\n",
    "[Champernowne's constant](https://projecteuler.net/problem=40)\n",
    "\n",
    "> <p>An irrational decimal fraction is created by concatenating the positive integers:</p>\n",
    "> <p style=\"text-align:center;\">0.12345678910<span style=\"color:#dd0000;font-size:14pt;\">1</span>112131415161718192021...</p>\n",
    "> <p>It can be seen that the 12<sup>th</sup> digit of the fractional part is 1.</p>\n",
    "> <p>If <i>d</i><sub><i>n</i></sub> represents the <i>n</i><sup>th</sup> digit of the fractional part, find the value of the following expression.</p>\n",
    "> <p style=\"text-align:center;\"><i>d</i><sub>1</sub> × <i>d</i><sub>10</sub> × <i>d</i><sub>100</sub> × <i>d</i><sub>1000</sub> × <i>d</i><sub>10000</sub> × <i>d</i><sub>100000</sub> × <i>d</i><sub>1000000</sub></p>"
   ]
  },
  {
   "cell_type": "markdown",
   "metadata": {
    "collapsed": true
   },
   "source": [
    "## doctests"
   ]
  },
  {
   "cell_type": "code",
   "execution_count": 10,
   "metadata": {},
   "outputs": [
    {
     "data": {
      "text/plain": [
       "TestResults(failed=0, attempted=2)"
      ]
     },
     "execution_count": 10,
     "metadata": {},
     "output_type": "execute_result"
    }
   ],
   "source": [
    "import doctest\n",
    "doctest.testmod()"
   ]
  },
  {
   "cell_type": "code",
   "execution_count": null,
   "metadata": {},
   "outputs": [],
   "source": []
  }
 ],
 "metadata": {
  "kernelspec": {
   "display_name": "Python 3",
   "language": "python",
   "name": "python3"
  },
  "language_info": {
   "codemirror_mode": {
    "name": "ipython",
    "version": 3
   },
   "file_extension": ".py",
   "mimetype": "text/x-python",
   "name": "python",
   "nbconvert_exporter": "python",
   "pygments_lexer": "ipython3",
   "version": "3.6.5"
  }
 },
 "nbformat": 4,
 "nbformat_minor": 1
}
