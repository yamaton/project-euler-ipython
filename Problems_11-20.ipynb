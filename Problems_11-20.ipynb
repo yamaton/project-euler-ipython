{
 "cells": [
  {
   "cell_type": "markdown",
   "metadata": {},
   "source": [
    "# Solutions to Project Euler #11 - 20"
   ]
  },
  {
   "cell_type": "markdown",
   "metadata": {},
   "source": [
    "## Problem 11\n",
    "\n",
    "[Largest product in a grid](http://projecteuler.net/problem=11)\n",
    "> In the $20 \\times 20$ grid below, four numbers along a diagonal line have been marked in red.\n",
    "> <p>\n",
    "08 02 22 97 38 15 00 40 00 75 04 05 07 78 52 12 50 77 91 08<br />\n",
    "49 49 99 40 17 81 18 57 60 87 17 40 98 43 69 48 04 56 62 00<br />\n",
    "81 49 31 73 55 79 14 29 93 71 40 67 53 88 30 03 49 13 36 65<br />\n",
    "52 70 95 23 04 60 11 42 69 24 68 56 01 32 56 71 37 02 36 91<br />\n",
    "22 31 16 71 51 67 63 89 41 92 36 54 22 40 40 28 66 33 13 80<br />\n",
    "24 47 32 60 99 03 45 02 44 75 33 53 78 36 84 20 35 17 12 50<br />\n",
    "32 98 81 28 64 23 67 10 <span style=\"color:#ff0000;\"><b>26</b></span> 38 40 67 59 54 70 66 18 38 64 70<br />\n",
    "67 26 20 68 02 62 12 20 95 <span style=\"color:#ff0000;\"><b>63</b></span> 94 39 63 08 40 91 66 49 94 21<br />\n",
    "24 55 58 05 66 73 99 26 97 17 <span style=\"color:#ff0000;\"><b>78</b></span> 78 96 83 14 88 34 89 63 72<br />\n",
    "21 36 23 09 75 00 76 44 20 45 35 <span style=\"color:#ff0000;\"><b>14</b></span> 00 61 33 97 34 31 33 95<br />\n",
    "78 17 53 28 22 75 31 67 15 94 03 80 04 62 16 14 09 53 56 92<br />\n",
    "16 39 05 42 96 35 31 47 55 58 88 24 00 17 54 24 36 29 85 57<br />\n",
    "86 56 00 48 35 71 89 07 05 44 44 37 44 60 21 58 51 54 17 58<br />\n",
    "19 80 81 68 05 94 47 69 28 73 92 13 86 52 17 77 04 89 55 40<br />\n",
    "04 52 08 83 97 35 99 16 07 97 57 32 16 26 26 79 33 27 98 66<br />\n",
    "88 36 68 87 57 62 20 72 03 46 33 67 46 55 12 32 63 93 53 69<br />\n",
    "04 42 16 73 38 25 39 11 24 94 72 18 08 46 29 32 40 62 76 36<br />\n",
    "20 69 36 41 72 30 23 88 34 62 99 69 82 67 59 85 74 04 36 16<br />\n",
    "20 73 35 29 78 31 90 01 74 31 49 71 48 86 81 16 23 57 05 54<br />\n",
    "01 70 54 71 83 51 54 69 16 92 33 48 61 43 52 01 89 19 67 48<br /></p>\n",
    "\n",
    "> The product of these numbers is $26 \\times 63 \\times 78 \\times 14 = 1788696$.\n",
    "> \n",
    "What is the greatest product of four adjacent numbers in the same direction (up, down, left, right, or diagonally) in the $20 \\times 20$  grid?"
   ]
  },
  {
   "cell_type": "code",
   "execution_count": 1,
   "metadata": {
    "collapsed": false
   },
   "outputs": [],
   "source": [
    "import itertools\n",
    "import operator\n",
    "import functools\n",
    "\n",
    "def take_horizontals(mat, size=4):\n",
    "    n = len(mat[0])\n",
    "    return [xs[i:i+size] for xs in mat for i in range(n - size + 1)]\n",
    "\n",
    "def take_verticals(mat, size=4):\n",
    "    transposed = list(zip(*mat))\n",
    "    return take_horizontals(transposed, size)\n",
    "\n",
    "def take_diagonals(mat, size=4):\n",
    "    row_max = len(mat)\n",
    "    col_max = len(mat[0])\n",
    "    return [[mat[row + i][col + i] for i in range(size)]\n",
    "                for row in range(row_max - size + 1)\n",
    "                for col in range(col_max - size + 1)]\n",
    "\n",
    "def take_antidiagonals(mat, size=4):\n",
    "    mat_reversed = list(reversed(mat))\n",
    "    return take_diagonals(mat_reversed, size)\n",
    "\n",
    "def product(xs):\n",
    "    return functools.reduce(operator.mul, xs ,1)\n",
    "\n",
    "def prob011(mat):\n",
    "    return max(map(product, \n",
    "                   itertools.chain(take_horizontals(mat),\n",
    "                                   take_verticals(mat),\n",
    "                                   take_diagonals(mat),\n",
    "                                   take_antidiagonals(mat))))    "
   ]
  },
  {
   "cell_type": "code",
   "execution_count": 2,
   "metadata": {
    "collapsed": false
   },
   "outputs": [
    {
     "data": {
      "text/plain": [
       "70600674"
      ]
     },
     "execution_count": 2,
     "metadata": {},
     "output_type": "execute_result"
    }
   ],
   "source": [
    "s = \"\"\"\n",
    "08 02 22 97 38 15 00 40 00 75 04 05 07 78 52 12 50 77 91 08\n",
    "49 49 99 40 17 81 18 57 60 87 17 40 98 43 69 48 04 56 62 00\n",
    "81 49 31 73 55 79 14 29 93 71 40 67 53 88 30 03 49 13 36 65\n",
    "52 70 95 23 04 60 11 42 69 24 68 56 01 32 56 71 37 02 36 91\n",
    "22 31 16 71 51 67 63 89 41 92 36 54 22 40 40 28 66 33 13 80\n",
    "24 47 32 60 99 03 45 02 44 75 33 53 78 36 84 20 35 17 12 50\n",
    "32 98 81 28 64 23 67 10 26 38 40 67 59 54 70 66 18 38 64 70\n",
    "67 26 20 68 02 62 12 20 95 63 94 39 63 08 40 91 66 49 94 21\n",
    "24 55 58 05 66 73 99 26 97 17 78 78 96 83 14 88 34 89 63 72\n",
    "21 36 23 09 75 00 76 44 20 45 35 14 00 61 33 97 34 31 33 95\n",
    "78 17 53 28 22 75 31 67 15 94 03 80 04 62 16 14 09 53 56 92\n",
    "16 39 05 42 96 35 31 47 55 58 88 24 00 17 54 24 36 29 85 57\n",
    "86 56 00 48 35 71 89 07 05 44 44 37 44 60 21 58 51 54 17 58\n",
    "19 80 81 68 05 94 47 69 28 73 92 13 86 52 17 77 04 89 55 40\n",
    "04 52 08 83 97 35 99 16 07 97 57 32 16 26 26 79 33 27 98 66\n",
    "88 36 68 87 57 62 20 72 03 46 33 67 46 55 12 32 63 93 53 69\n",
    "04 42 16 73 38 25 39 11 24 94 72 18 08 46 29 32 40 62 76 36\n",
    "20 69 36 41 72 30 23 88 34 62 99 69 82 67 59 85 74 04 36 16\n",
    "20 73 35 29 78 31 90 01 74 31 49 71 48 86 81 16 23 57 05 54\n",
    "01 70 54 71 83 51 54 69 16 92 33 48 61 43 52 01 89 19 67 48\n",
    "\"\"\"\n",
    "\n",
    "mat = [[int(i) for i in line.split()] for line in s.split(\"\\n\") if line]\n",
    "prob011(mat)"
   ]
  },
  {
   "cell_type": "code",
   "execution_count": null,
   "metadata": {
    "collapsed": false
   },
   "outputs": [],
   "source": []
  },
  {
   "cell_type": "markdown",
   "metadata": {},
   "source": [
    "## Problem 12\n",
    "\n",
    "[Highly divisible triangular number](http://projecteuler.net/problem=12)\n",
    "\n",
    "> The sequence of triangle numbers is generated by adding the natural numbers. So the 7th triangle number would be $1 + 2 + 3 + 4 + 5 + 6 + 7 = 28$. The first ten terms would be:\n",
    "\n",
    "> $$ 1, 3, 6, 10, 15, 21, 28, 36, 45, 55, \\cdots $$\n",
    "\n",
    "> Let us list the factors of the first seven triangle numbers:\n",
    "\n",
    "> ```\n",
    " 1: 1\n",
    " 3: 1,3\n",
    " 6: 1,2,3,6\n",
    "10: 1,2,5,10\n",
    "15: 1,3,5,15\n",
    "21: 1,3,7,21\n",
    "28: 1,2,4,7,14,28\n",
    "```\n",
    "\n",
    "> We can see that 28 is the first triangle number to have over five divisors.\n",
    "What is the value of the first triangle number to have over five hundred divisors?"
   ]
  },
  {
   "cell_type": "code",
   "execution_count": 3,
   "metadata": {
    "collapsed": false
   },
   "outputs": [],
   "source": [
    "import math\n",
    "import itertools\n",
    "\n",
    "def triangles():  \n",
    "    \"\"\"\n",
    "    Generate triangle numbers\n",
    "    \n",
    "    >>> import itertools\n",
    "    >>> list(itertools.islice(triangles(), 7))\n",
    "    [1, 3, 6, 10, 15, 21, 28]\n",
    "    \"\"\"\n",
    "    acc = 0\n",
    "    for i in itertools.count(1):\n",
    "        acc += i\n",
    "        yield acc\n",
    "        \n",
    "        \n",
    "def divisor_count(n: int) -> int:\n",
    "    \"\"\"\n",
    "    >>> divisor_count(28)\n",
    "    6\n",
    "    \n",
    "    `sympy.divisor_count()` is much more sophisticated.\n",
    "    \"\"\"\n",
    "    assert n >= 1\n",
    "    \n",
    "    divisors = set()\n",
    "    ub = int(math.sqrt(n))\n",
    "    for i in range(1, ub + 1):\n",
    "        if n % i == 0:\n",
    "            divisors.add(i)\n",
    "            divisors.add(n // i)\n",
    "    return len(divisors)\n",
    "\n",
    "    \n",
    "def prob012(n:int=500) -> int:\n",
    "    \"\"\"\n",
    "    >>> prob012(5)\n",
    "    28\n",
    "    \"\"\"\n",
    "    return next(\n",
    "            itertools.dropwhile(lambda x: divisor_count(x) <= n,\n",
    "                                triangles()))"
   ]
  },
  {
   "cell_type": "code",
   "execution_count": 4,
   "metadata": {
    "collapsed": false
   },
   "outputs": [
    {
     "name": "stdout",
     "output_type": "stream",
     "text": [
      "CPU times: user 11.8 s, sys: 28.2 ms, total: 11.9 s\n",
      "Wall time: 12.2 s\n"
     ]
    },
    {
     "data": {
      "text/plain": [
       "76576500"
      ]
     },
     "execution_count": 4,
     "metadata": {},
     "output_type": "execute_result"
    }
   ],
   "source": [
    "%time prob012()"
   ]
  },
  {
   "cell_type": "code",
   "execution_count": null,
   "metadata": {
    "collapsed": false
   },
   "outputs": [],
   "source": []
  },
  {
   "cell_type": "markdown",
   "metadata": {},
   "source": [
    "## Problem 13\n",
    "\n",
    "> [Large sum](http://projecteuler.net/problem=13)\n",
    "\n",
    "> Work out the first ten digits of the sum of the following one-hundred 50-digit numbers."
   ]
  },
  {
   "cell_type": "markdown",
   "metadata": {},
   "source": [
    "Python can handle large integers nicely without overflows. So just do it."
   ]
  },
  {
   "cell_type": "code",
   "execution_count": 5,
   "metadata": {
    "collapsed": false
   },
   "outputs": [],
   "source": [
    "def prob013(data: [str], digits=10) -> int:\n",
    "    xs = [int(line) for line in data.split() if line]\n",
    "    total = sum(xs)\n",
    "    return str(total)[:digits]"
   ]
  },
  {
   "cell_type": "code",
   "execution_count": 6,
   "metadata": {
    "collapsed": false
   },
   "outputs": [
    {
     "data": {
      "text/plain": [
       "'5537376230'"
      ]
     },
     "execution_count": 6,
     "metadata": {},
     "output_type": "execute_result"
    }
   ],
   "source": [
    "data = \"\"\"\n",
    "37107287533902102798797998220837590246510135740250\n",
    "46376937677490009712648124896970078050417018260538\n",
    "74324986199524741059474233309513058123726617309629\n",
    "91942213363574161572522430563301811072406154908250\n",
    "23067588207539346171171980310421047513778063246676\n",
    "89261670696623633820136378418383684178734361726757\n",
    "28112879812849979408065481931592621691275889832738\n",
    "44274228917432520321923589422876796487670272189318\n",
    "47451445736001306439091167216856844588711603153276\n",
    "70386486105843025439939619828917593665686757934951\n",
    "62176457141856560629502157223196586755079324193331\n",
    "64906352462741904929101432445813822663347944758178\n",
    "92575867718337217661963751590579239728245598838407\n",
    "58203565325359399008402633568948830189458628227828\n",
    "80181199384826282014278194139940567587151170094390\n",
    "35398664372827112653829987240784473053190104293586\n",
    "86515506006295864861532075273371959191420517255829\n",
    "71693888707715466499115593487603532921714970056938\n",
    "54370070576826684624621495650076471787294438377604\n",
    "53282654108756828443191190634694037855217779295145\n",
    "36123272525000296071075082563815656710885258350721\n",
    "45876576172410976447339110607218265236877223636045\n",
    "17423706905851860660448207621209813287860733969412\n",
    "81142660418086830619328460811191061556940512689692\n",
    "51934325451728388641918047049293215058642563049483\n",
    "62467221648435076201727918039944693004732956340691\n",
    "15732444386908125794514089057706229429197107928209\n",
    "55037687525678773091862540744969844508330393682126\n",
    "18336384825330154686196124348767681297534375946515\n",
    "80386287592878490201521685554828717201219257766954\n",
    "78182833757993103614740356856449095527097864797581\n",
    "16726320100436897842553539920931837441497806860984\n",
    "48403098129077791799088218795327364475675590848030\n",
    "87086987551392711854517078544161852424320693150332\n",
    "59959406895756536782107074926966537676326235447210\n",
    "69793950679652694742597709739166693763042633987085\n",
    "41052684708299085211399427365734116182760315001271\n",
    "65378607361501080857009149939512557028198746004375\n",
    "35829035317434717326932123578154982629742552737307\n",
    "94953759765105305946966067683156574377167401875275\n",
    "88902802571733229619176668713819931811048770190271\n",
    "25267680276078003013678680992525463401061632866526\n",
    "36270218540497705585629946580636237993140746255962\n",
    "24074486908231174977792365466257246923322810917141\n",
    "91430288197103288597806669760892938638285025333403\n",
    "34413065578016127815921815005561868836468420090470\n",
    "23053081172816430487623791969842487255036638784583\n",
    "11487696932154902810424020138335124462181441773470\n",
    "63783299490636259666498587618221225225512486764533\n",
    "67720186971698544312419572409913959008952310058822\n",
    "95548255300263520781532296796249481641953868218774\n",
    "76085327132285723110424803456124867697064507995236\n",
    "37774242535411291684276865538926205024910326572967\n",
    "23701913275725675285653248258265463092207058596522\n",
    "29798860272258331913126375147341994889534765745501\n",
    "18495701454879288984856827726077713721403798879715\n",
    "38298203783031473527721580348144513491373226651381\n",
    "34829543829199918180278916522431027392251122869539\n",
    "40957953066405232632538044100059654939159879593635\n",
    "29746152185502371307642255121183693803580388584903\n",
    "41698116222072977186158236678424689157993532961922\n",
    "62467957194401269043877107275048102390895523597457\n",
    "23189706772547915061505504953922979530901129967519\n",
    "86188088225875314529584099251203829009407770775672\n",
    "11306739708304724483816533873502340845647058077308\n",
    "82959174767140363198008187129011875491310547126581\n",
    "97623331044818386269515456334926366572897563400500\n",
    "42846280183517070527831839425882145521227251250327\n",
    "55121603546981200581762165212827652751691296897789\n",
    "32238195734329339946437501907836945765883352399886\n",
    "75506164965184775180738168837861091527357929701337\n",
    "62177842752192623401942399639168044983993173312731\n",
    "32924185707147349566916674687634660915035914677504\n",
    "99518671430235219628894890102423325116913619626622\n",
    "73267460800591547471830798392868535206946944540724\n",
    "76841822524674417161514036427982273348055556214818\n",
    "97142617910342598647204516893989422179826088076852\n",
    "87783646182799346313767754307809363333018982642090\n",
    "10848802521674670883215120185883543223812876952786\n",
    "71329612474782464538636993009049310363619763878039\n",
    "62184073572399794223406235393808339651327408011116\n",
    "66627891981488087797941876876144230030984490851411\n",
    "60661826293682836764744779239180335110989069790714\n",
    "85786944089552990653640447425576083659976645795096\n",
    "66024396409905389607120198219976047599490197230297\n",
    "64913982680032973156037120041377903785566085089252\n",
    "16730939319872750275468906903707539413042652315011\n",
    "94809377245048795150954100921645863754710598436791\n",
    "78639167021187492431995700641917969777599028300699\n",
    "15368713711936614952811305876380278410754449733078\n",
    "40789923115535562561142322423255033685442488917353\n",
    "44889911501440648020369068063960672322193204149535\n",
    "41503128880339536053299340368006977710650566631954\n",
    "81234880673210146739058568557934581403627822703280\n",
    "82616570773948327592232845941706525094512325230608\n",
    "22918802058777319719839450180888072429661980811197\n",
    "77158542502016545090413245809786882778948721859617\n",
    "72107838435069186155435662884062257473692284509516\n",
    "20849603980134001723930671666823555245252804609722\n",
    "53503534226472524250874054075591789781264330331690\"\"\"\n",
    "\n",
    "prob013(data)"
   ]
  },
  {
   "cell_type": "markdown",
   "metadata": {},
   "source": [
    "## Problem 14\n",
    "\n",
    "[Longest Collatz sequence](http://projecteuler.net/problem=14)\n",
    "\n",
    "> The following iterative sequence is defined for the set of positive integers:\n",
    ">\n",
    "$$n \\rightarrow   n/2    \\ \\ \\textrm{($n$ is even)}$$\n",
    "$$n \\rightarrow  3n + 1  \\ \\ \\textrm{($n$ is odd)}$$\n",
    "\n",
    "> Using the rule above and starting with 13, we generate the following sequence:\n",
    ">\n",
    "$$13  \\rightarrow  40 \\rightarrow  20 \\rightarrow  10 \\rightarrow  5 \\rightarrow  16 \\rightarrow  8 \\rightarrow  4 \\rightarrow  2 \\rightarrow  1$$\n",
    "\n",
    "> It can be seen that this sequence (starting at 13 and finishing at 1) contains 10 terms. Although it has not been proved yet (Collatz Problem), it is thought that all starting numbers finish at 1.\n",
    "\n",
    "> Which starting number, under one million, produces the longest chain?\n",
    "\n",
    "> **NOTE**: Once the chain starts the terms are allowed to go above one million.\n"
   ]
  },
  {
   "cell_type": "markdown",
   "metadata": {},
   "source": [
    "Consider the problem with recursion. Let $f(n)$ be the Collatz map.\n",
    "\n",
    "$$\n",
    "f(n) = \n",
    "\\begin{cases}\n",
    "    n / 2       & \\quad \\text{if $n$ is even} \\\\\n",
    "    3 n + 1     & \\quad \\text{if $n$ is odd}\n",
    "\\end{cases}\n",
    "$$\n",
    "\n",
    "Then there is recursive relation for the length $g(n)$ of Collatz sequence.\n",
    "$$\n",
    "g(n) = \n",
    "\\begin{cases}\n",
    "    1               & \\quad \\text{if $n = 1$} \\\\\n",
    "    1 + g(f(n))     & \\quad \\text{otherwise}\n",
    "\\end{cases}\n",
    "$$\n",
    "\n",
    "Typically recursive relation has monotonically decreasing variable (such as $(n+1)$ to $n$), which contributes to the convergence argument. This recursive relation is not the case (i.e. $n < f(n)$ occurs).\n",
    "\n",
    "`collatz_length` is repeatedly called with the same argument so memoise the funciton with `functools.lru_cache`. Here I remove the upper bound of memory usage by setting `maxsize=None`."
   ]
  },
  {
   "cell_type": "code",
   "execution_count": 7,
   "metadata": {
    "collapsed": false
   },
   "outputs": [],
   "source": [
    "import functools\n",
    "\n",
    "def collatz(n: int) -> int:\n",
    "    \"\"\"\n",
    "    Provide the Collatz map\n",
    "\n",
    "    >>> collatz(13)\n",
    "    40\n",
    "    >>> collatz(40)\n",
    "    20\n",
    "    \"\"\"\n",
    "    return (n // 2) if (n % 2 == 0) else (3 * n + 1)\n",
    "\n",
    "\n",
    "# memoise the function call\n",
    "@functools.lru_cache(maxsize=None)\n",
    "def collatz_length(n: int) -> int:\n",
    "    if n == 1:\n",
    "        return 1\n",
    "    else:\n",
    "        return 1 + collatz_length(collatz(n))\n",
    "\n",
    "def prob014(n=1000000):\n",
    "    numbers = range(1, n)\n",
    "    return max(numbers, key=collatz_length)        "
   ]
  },
  {
   "cell_type": "code",
   "execution_count": 8,
   "metadata": {
    "collapsed": false
   },
   "outputs": [
    {
     "name": "stdout",
     "output_type": "stream",
     "text": [
      "CPU times: user 7.92 s, sys: 176 ms, total: 8.1 s\n",
      "Wall time: 8.29 s\n"
     ]
    },
    {
     "data": {
      "text/plain": [
       "837799"
      ]
     },
     "execution_count": 8,
     "metadata": {},
     "output_type": "execute_result"
    }
   ],
   "source": [
    "%time prob014()"
   ]
  },
  {
   "cell_type": "markdown",
   "metadata": {},
   "source": [
    "## Problem 15\n",
    "\n",
    "[Lattice path](http://projecteuler.net/problem=15)\n",
    "\n",
    "> Starting in the top left corner of a $2 \\times 2$ grid, and only being able to move to the right and down, there are exactly 6 routes to the bottom right corner.\n",
    "\n",
    "> ![](http://projecteuler.net/project/images/p_015.gif)\n",
    "\n",
    "> How many such routes are there through a $20 \\times 20$ grid?"
   ]
  },
  {
   "cell_type": "markdown",
   "metadata": {},
   "source": [
    "The routes are combination of left "
   ]
  },
  {
   "cell_type": "code",
   "execution_count": 9,
   "metadata": {
    "collapsed": false
   },
   "outputs": [],
   "source": [
    "import operator\n",
    "\n",
    "def binomial(n: int, k: int) -> int:\n",
    "    \"\"\"\n",
    "    Binomial function\n",
    "\n",
    "    >>> binomial(5, 2)\n",
    "    10\n",
    "    \n",
    "    Also available from `sympy\n",
    "    \"\"\"\n",
    "    if n < k:\n",
    "        return 0\n",
    "    elif n < 2 * k:\n",
    "        return binomial(n, n - k)\n",
    "    else:\n",
    "        numer = functools.reduce(operator.mul, range(n, n - k, -1))\n",
    "        denom = functools.reduce(operator.mul, range(k, 0, -1))\n",
    "        return numer // denom\n",
    "\n",
    "def prob015(grid:(int, int) =(20, 20)) -> int:\n",
    "    \"\"\"\n",
    "    >>> prob015((2, 2))\n",
    "    6\n",
    "    \"\"\"\n",
    "    row, col = grid\n",
    "    return binomial(row + col, row)"
   ]
  },
  {
   "cell_type": "code",
   "execution_count": 10,
   "metadata": {
    "collapsed": false
   },
   "outputs": [
    {
     "name": "stdout",
     "output_type": "stream",
     "text": [
      "CPU times: user 36 µs, sys: 35 µs, total: 71 µs\n",
      "Wall time: 78 µs\n"
     ]
    },
    {
     "data": {
      "text/plain": [
       "137846528820"
      ]
     },
     "execution_count": 10,
     "metadata": {},
     "output_type": "execute_result"
    }
   ],
   "source": [
    "%time prob015()"
   ]
  },
  {
   "cell_type": "code",
   "execution_count": 11,
   "metadata": {
    "collapsed": false
   },
   "outputs": [
    {
     "name": "stdout",
     "output_type": "stream",
     "text": [
      "The slowest run took 4.45 times longer than the fastest. This could mean that an intermediate result is being cached \n",
      "100000 loops, best of 3: 7.52 µs per loop\n"
     ]
    }
   ],
   "source": [
    "%timeit prob015()"
   ]
  },
  {
   "cell_type": "markdown",
   "metadata": {},
   "source": [
    "## Problem 16\n",
    "\n",
    "[Power digit sum](http://projecteuler.net/problem=16)\n",
    "\n",
    "> $2^{15} = 32768$   and the sum of its digits is $3 + 2 + 7 + 6 + 8 = 26$.\n",
    "\n",
    "> What is the sum of the digits of the number $2^{1000}$?"
   ]
  },
  {
   "cell_type": "code",
   "execution_count": 12,
   "metadata": {
    "collapsed": false
   },
   "outputs": [],
   "source": [
    "def integerdigits(n):\n",
    "    \"\"\"\n",
    "    Construct list of decimal digits from the integer n\n",
    "\n",
    "    >>> integerdigits(235)\n",
    "    [2, 3, 5]\n",
    "    \"\"\"\n",
    "    return map(int, str(n))\n",
    "\n",
    "\n",
    "def prob016(n=1000):\n",
    "    \"\"\"\n",
    "    >>> prob016(15)\n",
    "    26\n",
    "    \"\"\"\n",
    "    return sum(integerdigits(2**n))"
   ]
  },
  {
   "cell_type": "code",
   "execution_count": 13,
   "metadata": {
    "collapsed": false
   },
   "outputs": [
    {
     "name": "stdout",
     "output_type": "stream",
     "text": [
      "CPU times: user 169 µs, sys: 0 ns, total: 169 µs\n",
      "Wall time: 177 µs\n"
     ]
    },
    {
     "data": {
      "text/plain": [
       "1366"
      ]
     },
     "execution_count": 13,
     "metadata": {},
     "output_type": "execute_result"
    }
   ],
   "source": [
    "%time prob016()"
   ]
  },
  {
   "cell_type": "code",
   "execution_count": null,
   "metadata": {
    "collapsed": false
   },
   "outputs": [],
   "source": []
  },
  {
   "cell_type": "markdown",
   "metadata": {},
   "source": [
    "## Problem 17\n",
    "\n",
    "[Number letter counts](http://projecteuler.net/problem=17)\n",
    "\n",
    "> If the numbers 1 to 5 are written out in words: one, two, three, four, five, then there are $3 + 3 + 5 + 4 + 4 = 19$ letters used in total.\n",
    "\n",
    "> If all the numbers from 1 to 1000 (one thousand) inclusive were written out in words, how many letters would be used?\n",
    "\n",
    "\n",
    "> **NOTE**: Do not count spaces or hyphens. For example, 342 (three hundred and forty-two) contains 23 letters and 115 (one hundred and fifteen) contains 20 letters. The use of \"and\" when writing out numbers is in compliance with British usage."
   ]
  },
  {
   "cell_type": "code",
   "execution_count": 14,
   "metadata": {
    "collapsed": false
   },
   "outputs": [],
   "source": [
    "word = {0: '', 1: 'one', 2: 'two', 3: 'three', 4: 'four', 5: 'five',\n",
    "        6: 'six', 7: 'seven', 8: 'eight', 9: 'nine', 10: 'ten',\n",
    "        11: 'eleven', 12: 'twelve', 13: 'thirteen', 14: 'fourteen', 15: 'fifteen',\n",
    "        16: 'sixteen', 17: 'seventeen', 18: 'eighteen', 19: 'nineteen',\n",
    "        20: 'twenty', 30: 'thirty', 40: 'forty', 50: 'fifty',\n",
    "        60: 'sixty', 70: 'seventy', 80: 'eighty', 90: 'ninety'} \n",
    "\n",
    "\n",
    "def to_words(n: int) -> str:\n",
    "    assert 1 <= n < 1000000\n",
    "\n",
    "    if n >= 1000:\n",
    "        thousands = n // 1000\n",
    "        rest = n % 1000\n",
    "        if rest > 0:\n",
    "            return to_words(thousands) + ' thousand and ' + to_words(rest)\n",
    "        else:\n",
    "            return to_words(thousands) + ' thousand'\n",
    "    elif n >= 100:\n",
    "        hundreds = n // 100\n",
    "        rest = n % 100\n",
    "        if rest > 0:\n",
    "            return to_words(hundreds) + ' hundred and ' + to_words(rest)\n",
    "        else:\n",
    "            return to_words(hundreds) + ' hundred'\n",
    "    elif n > 20:\n",
    "        rest = n % 10\n",
    "        most = n - rest\n",
    "        return word[most] + ' ' + word[rest]\n",
    "    else:\n",
    "        return word[n]\n",
    "\n",
    "    \n",
    "def word_letters(n: int) -> int:\n",
    "    return sum(1 for c in to_words(n) if c.isalpha())\n",
    "\n",
    "\n",
    "def prob017(n=1000):\n",
    "    return sum(word_letters(i) for i in range(1, n+1))"
   ]
  },
  {
   "cell_type": "code",
   "execution_count": 15,
   "metadata": {
    "collapsed": false
   },
   "outputs": [
    {
     "data": {
      "text/plain": [
       "'thirteen thousand and three hundred and thirty two'"
      ]
     },
     "execution_count": 15,
     "metadata": {},
     "output_type": "execute_result"
    }
   ],
   "source": [
    "to_words(13332)"
   ]
  },
  {
   "cell_type": "code",
   "execution_count": 16,
   "metadata": {
    "collapsed": false
   },
   "outputs": [
    {
     "name": "stdout",
     "output_type": "stream",
     "text": [
      "CPU times: user 13 ms, sys: 693 µs, total: 13.7 ms\n",
      "Wall time: 14.8 ms\n"
     ]
    },
    {
     "data": {
      "text/plain": [
       "21124"
      ]
     },
     "execution_count": 16,
     "metadata": {},
     "output_type": "execute_result"
    }
   ],
   "source": [
    "%time prob017()"
   ]
  },
  {
   "cell_type": "markdown",
   "metadata": {},
   "source": [
    "## Problem 18\n",
    "\n",
    "[Maximum path sum I](http://projecteuler.net/problem=18)\n",
    "\n",
    "> By starting at the top of the triangle below and moving to adjacent numbers on the row below, the maximum total from top to bottom is 23.\n",
    ">\n",
    "<p style=\"text-align:center;font-family:courier new;font-size:12pt;\">\n",
    "    <span style=\"color:#ff0000;\"><b>3</b></span><br>\n",
    "    <span style=\"color:#ff0000;\"><b>7</b></span> 4<br>\n",
    "    2 <span style=\"color:#ff0000;\"><b>4</b></span> 6<br>\n",
    "    8 5 <span style=\"color:#ff0000;\"><b>9</b></span> 3</p>\n",
    "\n",
    "> That is, $3 + 7 + 4 + 9 = 23.$\n",
    "\n",
    "> Find the maximum total from top to bottom of the triangle below:\n",
    ">\n",
    "<p style=\"text-align:center;font-family:courier new;\">\n",
    "75<br>\n",
    "95 64<br>\n",
    "17 47 82<br>\n",
    "18 35 87 10<br>\n",
    "20 04 82 47 65<br>\n",
    "19 01 23 75 03 34<br>\n",
    "88 02 77 73 07 63 67<br>\n",
    "99 65 04 28 06 16 70 92<br>\n",
    "41 41 26 56 83 40 80 70 33<br>\n",
    "41 48 72 33 47 32 37 16 94 29<br>\n",
    "53 71 44 65 25 43 91 52 97 51 14<br>\n",
    "70 11 33 28 77 73 17 78 39 68 17 57<br>\n",
    "91 71 52 38 17 14 91 43 58 50 27 29 48<br>\n",
    "63 66 04 68 89 53 67 30 73 16 69 87 40 31<br>\n",
    "04 62 98 27 23 09 70 98 73 93 38 53 60 04 23</p>\n",
    "\n",
    "> **NOTE**: As there are only 16384 routes, it is possible to solve this problem by trying every route. However, [Problem 67](http://projecteuler.net/problem=67), is the same challenge with a triangle containing one-hundred rows; it cannot be solved by brute force, and requires a clever method! ;o)"
   ]
  },
  {
   "cell_type": "code",
   "execution_count": 17,
   "metadata": {
    "collapsed": false
   },
   "outputs": [],
   "source": [
    "import functools\n",
    "import operator\n",
    "\n",
    "def _f(xs, ys):\n",
    "    acc = map(max, xs, xs[1:])\n",
    "    return [a + b for (a, b) in zip(acc, ys)]\n",
    "\n",
    "def prob018(triangle):\n",
    "    xss = list(reversed(triangle))\n",
    "    result = functools.reduce(_f, xss[1:], xss[0])\n",
    "    return result[0]"
   ]
  },
  {
   "cell_type": "code",
   "execution_count": 18,
   "metadata": {
    "collapsed": false
   },
   "outputs": [],
   "source": [
    "triangle = \"\"\"\n",
    "75\n",
    "95 64\n",
    "17 47 82\n",
    "18 35 87 10\n",
    "20 04 82 47 65\n",
    "19 01 23 75 03 34\n",
    "88 02 77 73 07 63 67\n",
    "99 65 04 28 06 16 70 92\n",
    "41 41 26 56 83 40 80 70 33\n",
    "41 48 72 33 47 32 37 16 94 29\n",
    "53 71 44 65 25 43 91 52 97 51 14\n",
    "70 11 33 28 77 73 17 78 39 68 17 57\n",
    "91 71 52 38 17 14 91 43 58 50 27 29 48\n",
    "63 66 04 68 89 53 67 30 73 16 69 87 40 31\n",
    "04 62 98 27 23 09 70 98 73 93 38 53 60 04 23\"\"\"\n",
    "\n",
    "data = [[int(n) for n in line.split()] for line in triangle.split(\"\\n\") if line]"
   ]
  },
  {
   "cell_type": "code",
   "execution_count": 19,
   "metadata": {
    "collapsed": false
   },
   "outputs": [
    {
     "name": "stdout",
     "output_type": "stream",
     "text": [
      "CPU times: user 185 µs, sys: 1e+03 ns, total: 186 µs\n",
      "Wall time: 193 µs\n"
     ]
    },
    {
     "data": {
      "text/plain": [
       "1074"
      ]
     },
     "execution_count": 19,
     "metadata": {},
     "output_type": "execute_result"
    }
   ],
   "source": [
    "%time prob018(data)"
   ]
  },
  {
   "cell_type": "markdown",
   "metadata": {},
   "source": [
    "## Problem 19\n",
    "\n",
    "[Counting Sundays](http://projecteuler.net/problem=19)\n",
    "\n",
    "> You are given the following information, but you may prefer to do some research for yourself.\n",
    "\n",
    "\n",
    "> - 1 Jan 1900 was a Monday.\n",
    "- Thirty days has September,\n",
    "  April, June and November.\n",
    "  All the rest have thirty-one,\n",
    "  Saving February alone,\n",
    "  Which has twenty-eight, rain or shine.\n",
    "  And on leap years, twenty-nine.\n",
    "- A leap year occurs on any year evenly divisible by 4, but not on a century unless it is divisible by 400.\n",
    "\n",
    "> How many Sundays fell on the first of the month during the twentieth century (1 Jan 1901 to 31 Dec 2000)?"
   ]
  },
  {
   "cell_type": "markdown",
   "metadata": {},
   "source": [
    "`date.weekday()` in `datetime` module gives integers 0 to 6 corresponding to Monday to Sunday."
   ]
  },
  {
   "cell_type": "code",
   "execution_count": 20,
   "metadata": {
    "collapsed": false
   },
   "outputs": [],
   "source": [
    "import datetime\n",
    "\n",
    "def prob019():\n",
    "    first_dates = [datetime.date(year, month, 1) \n",
    "                     for year in range(1901, 2001) \n",
    "                     for month in range(1, 13)]\n",
    "    return sum(1 for date in first_dates if date.weekday() == 6)"
   ]
  },
  {
   "cell_type": "code",
   "execution_count": 21,
   "metadata": {
    "collapsed": false
   },
   "outputs": [
    {
     "name": "stdout",
     "output_type": "stream",
     "text": [
      "CPU times: user 1.32 ms, sys: 24 µs, total: 1.34 ms\n",
      "Wall time: 1.35 ms\n"
     ]
    },
    {
     "data": {
      "text/plain": [
       "171"
      ]
     },
     "execution_count": 21,
     "metadata": {},
     "output_type": "execute_result"
    }
   ],
   "source": [
    "%time prob019()"
   ]
  },
  {
   "cell_type": "code",
   "execution_count": null,
   "metadata": {
    "collapsed": true
   },
   "outputs": [],
   "source": []
  },
  {
   "cell_type": "markdown",
   "metadata": {},
   "source": [
    "## Problem 20\n",
    "\n",
    "[Factorial digit sum](http://projecteuler.net/problem=20)\n",
    "\n",
    "> $n!$ means $n \\times (n - 1) \\times \\dots \\times 3 \\times 2 \\times 1$\n",
    "\n",
    "> For example, $10! = 10 \\times 9 \\times \\dots \\times  3 \\times 2 \\times 1 = 3628800,$ and the sum of the digits in the number $10!$ is $3 + 6 + 2 + 8 + 8 + 0 + 0 = 27.$\n",
    "\n",
    "> Find the sum of the digits in the number $100!$"
   ]
  },
  {
   "cell_type": "code",
   "execution_count": 22,
   "metadata": {
    "collapsed": false
   },
   "outputs": [],
   "source": [
    "import functools\n",
    "import operator\n",
    "\n",
    "# Reproduced from problem 16\n",
    "def integerdigits(n):\n",
    "    \"\"\"\n",
    "    Construct list of decimal digits from the integer n\n",
    "\n",
    "    >>> integerdigits(235)\n",
    "    [2, 3, 5]\n",
    "    \"\"\"\n",
    "    return map(int, str(n))\n",
    "\n",
    "\n",
    "def factorial(n):\n",
    "    \"\"\"\n",
    "    Factorial of integer n\n",
    "    \n",
    "    >>> factorial(10)\n",
    "    3628800\n",
    "    \n",
    "    See also `sympy.factorial` and `scipy.special.factorial`.\n",
    "    \"\"\"\n",
    "    \n",
    "    assert n >= 0\n",
    "    return functools.reduce(operator.mul, range(1, n+1), 1)\n",
    "\n",
    "\n",
    "def prob020(n=100):\n",
    "    return sum(integerdigits(factorial(n)))"
   ]
  },
  {
   "cell_type": "code",
   "execution_count": 23,
   "metadata": {
    "collapsed": false
   },
   "outputs": [
    {
     "name": "stdout",
     "output_type": "stream",
     "text": [
      "CPU times: user 126 µs, sys: 0 ns, total: 126 µs\n",
      "Wall time: 135 µs\n"
     ]
    },
    {
     "data": {
      "text/plain": [
       "648"
      ]
     },
     "execution_count": 23,
     "metadata": {},
     "output_type": "execute_result"
    }
   ],
   "source": [
    "%time prob020()"
   ]
  },
  {
   "cell_type": "code",
   "execution_count": null,
   "metadata": {
    "collapsed": true
   },
   "outputs": [],
   "source": []
  }
 ],
 "metadata": {
  "kernelspec": {
   "display_name": "Python 3",
   "language": "python",
   "name": "python3"
  },
  "language_info": {
   "codemirror_mode": {
    "name": "ipython",
    "version": 3
   },
   "file_extension": ".py",
   "mimetype": "text/x-python",
   "name": "python",
   "nbconvert_exporter": "python",
   "pygments_lexer": "ipython3",
   "version": "3.4.3"
  }
 },
 "nbformat": 4,
 "nbformat_minor": 0
}
