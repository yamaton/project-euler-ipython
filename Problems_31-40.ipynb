{
 "cells": [
  {
   "cell_type": "markdown",
   "metadata": {},
   "source": [
    "# Project Euler 21 - 30"
   ]
  },
  {
   "cell_type": "markdown",
   "metadata": {},
   "source": [
    "## Problem 31\n",
    "\n",
    "[Coin sums](https://projecteuler.net/problem=31)\n",
    "\n",
    "> <div class=\"problem_content\" role=\"problem\">\n",
    "<p>In England the currency is made up of pound, £, and pence, p, and there are eight coins in general circulation:</p>\n",
    "<blockquote>1p, 2p, 5p, 10p, 20p, 50p, £1 (100p) and £2 (200p).</blockquote>\n",
    "<p>It is possible to make £2 in the following way:</p>\n",
    "<blockquote>1×£1 + 1×50p + 2×20p + 1×5p + 1×2p + 3×1p</blockquote>\n",
    "<p>How many different ways can £2 be made using any number of coins?</p>\n",
    "</div>"
   ]
  },
  {
   "cell_type": "markdown",
   "metadata": {},
   "source": [
    "This is a standard DP (dynamic programming) problem using a recursive relation.\n",
    "\n",
    "Let $d(t, c)$ be the number of different ways to pay $t$ pence with coins up to $c$-th kind. For example, $d(11, 3)$ represents number of ways to pay $11$ pence with coins $\\{1\\textrm{p}, 2\\textrm{p}, 5\\textrm{p}\\}$. There is recursive relation between $c+1$ and $c$ by\n",
    "\n",
    "$$ d(t, c+1) = \\sum_{k = 0, 1, 2, \\dots} d(t - k \\, v_{c+1}, c) $$\n",
    "\n",
    "where $v_c$ represents value of the $c$-th coin. We also know that $d(0, 0) = 1$ and $d(t, 0) = 0$ for $t > 0$ as boundary conditions.\n",
    "\n",
    "Our goal is to pay $200$ pence with $8$ different coins $(1, 2, 5, 10, 20, 50, 100, 200)$, which is $d(200, 8)$. We assign two dimensional state space starting from "
   ]
  },
  {
   "cell_type": "code",
   "execution_count": 15,
   "metadata": {
    "collapsed": false
   },
   "outputs": [],
   "source": [
    "import collections\n",
    "\n",
    "def prob031_dp(target=200):\n",
    "    coins = [1, 2, 5, 10, 20, 50, 100, 200]\n",
    "    n = len(coins)\n",
    "    d = collections.defaultdict(int)\n",
    "    d[(0, 0)] = 1\n",
    "    for c in range(n):\n",
    "        v = coins[c]\n",
    "        for t in range(target + 1):\n",
    "            d[(t, c+1)] = sum(d[(t - i * v, c)] for i in range(t // v + 1))\n",
    "    return d[(200, n)]"
   ]
  },
  {
   "cell_type": "code",
   "execution_count": 16,
   "metadata": {
    "collapsed": false
   },
   "outputs": [
    {
     "name": "stdout",
     "output_type": "stream",
     "text": [
      "CPU times: user 24.4 ms, sys: 1.12 ms, total: 25.6 ms\n",
      "Wall time: 25.6 ms\n"
     ]
    },
    {
     "data": {
      "text/plain": [
       "73682"
      ]
     },
     "execution_count": 16,
     "metadata": {},
     "output_type": "execute_result"
    }
   ],
   "source": [
    "%time prob031_dp()"
   ]
  },
  {
   "cell_type": "markdown",
   "metadata": {},
   "source": [
    "Memoisation version."
   ]
  },
  {
   "cell_type": "code",
   "execution_count": 5,
   "metadata": {
    "collapsed": true
   },
   "outputs": [],
   "source": [
    "import functools\n",
    "\n",
    "@functools.lru_cache(maxsize=1000000)\n",
    "def _helper(total, coins):\n",
    "    if total < 0:\n",
    "        return 0\n",
    "    elif total == 0:\n",
    "        return 1\n",
    "    elif len(coins) == 0:\n",
    "        return 0\n",
    "    else:\n",
    "        return _helper(total, coins[1:]) + _helper(total - coins[0], coins)\n",
    "\n",
    "def prob031(total=200):\n",
    "    return _helper(total, (200, 100, 50, 20, 10, 5, 2, 1))"
   ]
  },
  {
   "cell_type": "code",
   "execution_count": 6,
   "metadata": {
    "collapsed": false
   },
   "outputs": [
    {
     "name": "stdout",
     "output_type": "stream",
     "text": [
      "CPU times: user 12.7 ms, sys: 2.39 ms, total: 15.1 ms\n",
      "Wall time: 16 ms\n"
     ]
    },
    {
     "data": {
      "text/plain": [
       "73682"
      ]
     },
     "execution_count": 6,
     "metadata": {},
     "output_type": "execute_result"
    }
   ],
   "source": [
    "%time prob031()"
   ]
  },
  {
   "cell_type": "markdown",
   "metadata": {},
   "source": [
    "## Problem 32\n",
    "\n",
    "[Pandigital products](https://projecteuler.net/problem=32)\n",
    "\n",
    "> <div class=\"problem_content\" role=\"problem\">\n",
    "<p>We shall say that an <var>n</var>-digit number is pandigital if it makes use of all the digits 1 to <var>n</var> exactly once; for example, the 5-digit number, 15234, is 1 through 5 pandigital.</p>\n",
    "<p>The product 7254 is unusual, as the identity, 39 × 186 = 7254, containing multiplicand, multiplier, and product is 1 through 9 pandigital.</p>\n",
    "<p>Find the sum of all products whose multiplicand/multiplier/product identity can be written as a 1 through 9 pandigital.</p>\n",
    "<div class=\"note\">HINT: Some products can be obtained in more than one way so be sure to only include it once in your sum.</div>\n",
    "</div>"
   ]
  },
  {
   "cell_type": "markdown",
   "metadata": {
    "collapsed": true
   },
   "source": [
    "Let $d(x)$ be the numbers of digits of an integer $x$.\n",
    "\n",
    "$$    10^{d(x)-1} \\leq x < 10^{d(x)}  $$\n",
    "\n",
    "Then the product of two integers, $x$ and $y4, is\n",
    "\n",
    "$$ 10^{d(x) + d(y) -2} \\leq x y < 10^{d(x) + d(y)}, $$\n",
    "\n",
    "or\n",
    "\n",
    "$$  d(x) + d(y) - 1 \\leq  d(x y)  \\leq d(x) + d(y).  $$\n",
    "\n",
    "We also impose that digits of $x$, $y$ and $x y$ forms pandigital (1 through 9) in total.\n",
    "\n",
    "$$    d(x) + d(y) + d(x y) = 9. $$\n",
    "\n",
    "From these relations, and that $d(z)$ is an integer, we have\n",
    "\n",
    "$$    d(x) + d(y) = 5  $$\n",
    "\n",
    "For $x \\leq y$, we have $(d(x), d(y)) = (1, 4)$ or $(2, 3)$."
   ]
  },
  {
   "cell_type": "code",
   "execution_count": 24,
   "metadata": {
    "collapsed": true
   },
   "outputs": [],
   "source": [
    "import collections\n",
    "\n",
    "def integerdigits(n):\n",
    "    return [int(c) for c in str(n)]\n",
    "\n",
    "def is_pandigital(x, y):\n",
    "    xs = sorted(i for n in (x, y, x * y) for i in integerdigits(n)) \n",
    "    return xs == list(range(1, 10))\n",
    "\n",
    "def prob032():\n",
    "    set1 = {(x, y, x * y) for x in range(10) for y in range(1000, 10000) if is_pandigital(x, y)}\n",
    "    set2 = {(x, y, x * y) for x in range(10, 100) for y in range(100, 1000) if is_pandigital(x, y)}\n",
    "    print(set1| set2)\n",
    "    return sum({p for _, _, p in set1 | set2})"
   ]
  },
  {
   "cell_type": "code",
   "execution_count": 25,
   "metadata": {
    "collapsed": false
   },
   "outputs": [
    {
     "name": "stdout",
     "output_type": "stream",
     "text": [
      "{(4, 1963, 7852), (28, 157, 4396), (18, 297, 5346), (39, 186, 7254), (4, 1738, 6952), (27, 198, 5346), (12, 483, 5796), (42, 138, 5796), (48, 159, 7632)}\n",
      "CPU times: user 2.43 s, sys: 4.06 ms, total: 2.44 s\n",
      "Wall time: 2.44 s\n"
     ]
    },
    {
     "data": {
      "text/plain": [
       "45228"
      ]
     },
     "execution_count": 25,
     "metadata": {},
     "output_type": "execute_result"
    }
   ],
   "source": [
    "%time prob032()"
   ]
  },
  {
   "cell_type": "markdown",
   "metadata": {},
   "source": [
    "## Problem 33\n",
    "\n",
    "[Digit cancelling fractions](https://projecteuler.net/problem=33)\n",
    "\n",
    "> <div class=\"problem_content\" role=\"problem\">\n",
    "<p>The fraction <sup>49</sup>/<sub>98</sub> is a curious fraction, as an inexperienced mathematician in attempting to simplify it may incorrectly believe that <sup>49</sup>/<sub>98</sub> = <sup>4</sup>/<sub>8</sub>, which is correct, is obtained by cancelling the 9s.</p>\n",
    "<p>We shall consider fractions like, <sup>30</sup>/<sub>50</sub> = <sup>3</sup>/<sub>5</sub>, to be trivial examples.</p>\n",
    "<p>There are exactly four non-trivial examples of this type of fraction, less than one in value, and containing two digits in the numerator and denominator.</p>\n",
    "<p>If the product of these four fractions is given in its lowest common terms, find the value of the denominator.</p>\n",
    "</div>"
   ]
  },
  {
   "cell_type": "markdown",
   "metadata": {},
   "source": [
    "Straightforward implementation works."
   ]
  },
  {
   "cell_type": "code",
   "execution_count": 79,
   "metadata": {
    "collapsed": false
   },
   "outputs": [],
   "source": [
    "import fractions\n",
    "import functools\n",
    "import operator\n",
    "\n",
    "def is_curious(numer, denom):\n",
    "    assert numer < denom\n",
    "    assert 10 <= numer < 100\n",
    "    assert 10 <= denom < 100\n",
    "    ns = integerdigits(numer)\n",
    "    ds = integerdigits(denom)\n",
    "    cancelling = set(ns) & set(ds)\n",
    "    if len(cancelling) == 1 and 0 not in cancelling:\n",
    "        v = cancelling.pop()\n",
    "        ns.remove(v)\n",
    "        ds.remove(v)\n",
    "        n, d = ns[0], ds[0]\n",
    "        return n * denom == d * numer\n",
    "    else:\n",
    "        return False\n",
    "\n",
    "def product(iterable):\n",
    "    return functools.reduce(operator.mul, iterable, 1)\n",
    "\n",
    "def prob033():\n",
    "    fracs = [fractions.Fraction(numer, denom) \n",
    "             for numer in range(10, 100)\n",
    "             for denom in range(numer + 1, 100)\n",
    "             if is_curious(numer, denom)]\n",
    "    return product(fracs).denominator"
   ]
  },
  {
   "cell_type": "code",
   "execution_count": 80,
   "metadata": {
    "collapsed": false
   },
   "outputs": [
    {
     "name": "stdout",
     "output_type": "stream",
     "text": [
      "CPU times: user 127 ms, sys: 3.89 ms, total: 130 ms\n",
      "Wall time: 132 ms\n"
     ]
    },
    {
     "data": {
      "text/plain": [
       "100"
      ]
     },
     "execution_count": 80,
     "metadata": {},
     "output_type": "execute_result"
    }
   ],
   "source": [
    "%time prob033()"
   ]
  },
  {
   "cell_type": "markdown",
   "metadata": {},
   "source": [
    "## Problem 34\n",
    "\n",
    "[Digit factorials](https://projecteuler.net/problem=34)\n",
    "\n",
    "> <div class=\"problem_content\" role=\"problem\">\n",
    "<p>145 is a curious number, as 1! + 4! + 5! = 1 + 24 + 120 = 145.</p>\n",
    "<p>Find the sum of all numbers which are equal to the sum of the factorial of their digits.</p>\n",
    "<p class=\"info\">Note: as 1! = 1 and 2! = 2 are not sums they are not included.</p>\n",
    "</div>"
   ]
  },
  {
   "cell_type": "code",
   "execution_count": null,
   "metadata": {
    "collapsed": true
   },
   "outputs": [],
   "source": []
  },
  {
   "cell_type": "markdown",
   "metadata": {},
   "source": [
    "## Problem 35\n",
    "\n",
    "[Circular primes](https://projecteuler.net/problem=35)\n",
    "\n",
    "> <div class=\"problem_content\" role=\"problem\">\n",
    "<p>The number, 197, is called a circular prime because all rotations of the digits: 197, 971, and 719, are themselves prime.</p>\n",
    "<p>There are thirteen such primes below 100: 2, 3, 5, 7, 11, 13, 17, 31, 37, 71, 73, 79, and 97.</p>\n",
    "<p>How many circular primes are there below one million?</p>\n",
    "</div>"
   ]
  },
  {
   "cell_type": "code",
   "execution_count": null,
   "metadata": {
    "collapsed": true
   },
   "outputs": [],
   "source": []
  },
  {
   "cell_type": "markdown",
   "metadata": {},
   "source": [
    "## Problem 36\n",
    "\n",
    "[Double-base palindromes](https://projecteuler.net/problem=36)\n",
    "\n",
    "> <div class=\"problem_content\" role=\"problem\">\n",
    "<p>The decimal number, 585 = 1001001001<sub>2</sub> (binary), is palindromic in both bases.</p>\n",
    "<p>Find the sum of all numbers, less than one million, which are palindromic in base 10 and base 2.</p>\n",
    "<p class=\"info\">(Please note that the palindromic number, in either base, may not include leading zeros.)</p>\n",
    "</div>"
   ]
  },
  {
   "cell_type": "code",
   "execution_count": null,
   "metadata": {
    "collapsed": true
   },
   "outputs": [],
   "source": []
  },
  {
   "cell_type": "markdown",
   "metadata": {},
   "source": [
    "## Problem 37\n",
    "\n",
    "[Truncatable primes](https://projecteuler.net/problem=37)\n",
    "\n",
    "> <div class=\"problem_content\" role=\"problem\">\n",
    "<p>The number 3797 has an interesting property. Being prime itself, it is possible to continuously remove digits from left to right, and remain prime at each stage: 3797, 797, 97, and 7. Similarly we can work from right to left: 3797, 379, 37, and 3.</p>\n",
    "<p>Find the sum of the only eleven primes that are both truncatable from left to right and right to left.</p>\n",
    "<p class=\"info\">NOTE: 2, 3, 5, and 7 are not considered to be truncatable primes.</p>\n",
    "</div>"
   ]
  },
  {
   "cell_type": "code",
   "execution_count": null,
   "metadata": {
    "collapsed": true
   },
   "outputs": [],
   "source": []
  },
  {
   "cell_type": "markdown",
   "metadata": {},
   "source": [
    "## Problem 38\n",
    "\n",
    "[Pandigital multiples](https://projecteuler.net/problem=38)\n",
    "\n",
    "> <div class=\"problem_content\" role=\"problem\">\n",
    "<p>Take the number 192 and multiply it by each of 1, 2, and 3:</p>\n",
    "<blockquote>192 × 1 = 192<br/>\n",
    "192 × 2 = 384<br/>\n",
    "192 × 3 = 576</blockquote>\n",
    "<p>By concatenating each product we get the 1 to 9 pandigital, 192384576. We will call 192384576 the concatenated product of 192 and (1,2,3)</p>\n",
    "<p>The same can be achieved by starting with 9 and multiplying by 1, 2, 3, 4, and 5, giving the pandigital, 918273645, which is the concatenated product of 9 and (1,2,3,4,5).</p>\n",
    "<p>What is the largest 1 to 9 pandigital 9-digit number that can be formed as the concatenated product of an integer with (1,2, ... , <var>n</var>) where <var>n</var> &gt; 1?</p>\n",
    "</div>"
   ]
  },
  {
   "cell_type": "code",
   "execution_count": null,
   "metadata": {
    "collapsed": true
   },
   "outputs": [],
   "source": []
  },
  {
   "cell_type": "markdown",
   "metadata": {},
   "source": [
    "## Problem 39\n",
    "\n",
    "[Integer right triangles](https://projecteuler.net/problem=39)\n",
    "\n",
    "> <div class=\"problem_content\" role=\"problem\">\n",
    "<p>If <i>p</i> is the perimeter of a right angle triangle with integral length sides, {<i>a</i>,<i>b</i>,<i>c</i>}, there are exactly three solutions for <i>p</i> = 120.</p>\n",
    "<p>{20,48,52}, {24,45,51}, {30,40,50}</p>\n",
    "<p>For which value of <i>p</i> ≤ 1000, is the number of solutions maximised?</p>\n",
    "</div>"
   ]
  },
  {
   "cell_type": "code",
   "execution_count": null,
   "metadata": {
    "collapsed": true
   },
   "outputs": [],
   "source": []
  },
  {
   "cell_type": "markdown",
   "metadata": {},
   "source": [
    "## Problem 40\n",
    "\n",
    "[Champernowne's constant](https://projecteuler.net/problem=40)\n",
    "\n",
    "> <div class=\"problem_content\" role=\"problem\">\n",
    "<p>An irrational decimal fraction is created by concatenating the positive integers:</p>\n",
    "<p style=\"text-align:center;\">0.12345678910<span style=\"color:#dd0000;font-size:14pt;\">1</span>112131415161718192021...</p>\n",
    "<p>It can be seen that the 12<sup>th</sup> digit of the fractional part is 1.</p>\n",
    "<p>If <i>d</i><sub><i>n</i></sub> represents the <i>n</i><sup>th</sup> digit of the fractional part, find the value of the following expression.</p>\n",
    "<p style=\"text-align:center;\"><i>d</i><sub>1</sub> × <i>d</i><sub>10</sub> × <i>d</i><sub>100</sub> × <i>d</i><sub>1000</sub> × <i>d</i><sub>10000</sub> × <i>d</i><sub>100000</sub> × <i>d</i><sub>1000000</sub></p>\n",
    "</div>"
   ]
  },
  {
   "cell_type": "code",
   "execution_count": null,
   "metadata": {
    "collapsed": true
   },
   "outputs": [],
   "source": []
  }
 ],
 "metadata": {
  "kernelspec": {
   "display_name": "Python 3",
   "language": "python",
   "name": "python3"
  },
  "language_info": {
   "codemirror_mode": {
    "name": "ipython",
    "version": 3
   },
   "file_extension": ".py",
   "mimetype": "text/x-python",
   "name": "python",
   "nbconvert_exporter": "python",
   "pygments_lexer": "ipython3",
   "version": "3.4.3"
  }
 },
 "nbformat": 4,
 "nbformat_minor": 0
}
